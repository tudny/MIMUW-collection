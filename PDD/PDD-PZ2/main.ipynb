{
 "cells": [
  {
   "cell_type": "code",
   "id": "initial_id",
   "metadata": {
    "collapsed": true,
    "ExecuteTime": {
     "end_time": "2024-06-12T10:12:42.910938Z",
     "start_time": "2024-06-12T10:12:42.908554Z"
    }
   },
   "source": [
    "# !pip install --upgrade pip --quiet\n",
    "# !pip install pyspark --quiet\n",
    "# !pip install -U -q PyDrive --quiet\n",
    "# !pip install numpy pandas --quiet"
   ],
   "outputs": [],
   "execution_count": 1
  },
  {
   "cell_type": "code",
   "id": "b75f25117b0c2bc1",
   "metadata": {
    "ExecuteTime": {
     "end_time": "2024-06-12T10:12:42.918602Z",
     "start_time": "2024-06-12T10:12:42.911944Z"
    }
   },
   "source": [
    "import sys\n",
    "\n",
    "SCALA_VERSION = \"2.12\"\n",
    "KAFKA_VERSION = \"3.7.0\"\n",
    "PYSPARK_SCALA_VERSION = \"2.12\"\n",
    "SPARK_VERSION = \"3.5.1\"\n",
    "\n",
    "%env SCALA_VERSION=$SCALA_VERSION\n",
    "%env KAFKA_VERSION=$KAFKA_VERSION\n",
    "%env PYSPARK_SCALA_VERSION=$PYSPARK_SCALA_VERSION\n",
    "%env SPARK_VERSION=$SPARK_VERSION"
   ],
   "outputs": [
    {
     "name": "stdout",
     "output_type": "stream",
     "text": [
      "env: SCALA_VERSION=2.12\n",
      "env: KAFKA_VERSION=3.7.0\n",
      "env: PYSPARK_SCALA_VERSION=2.12\n",
      "env: SPARK_VERSION=3.5.1\n"
     ]
    }
   ],
   "execution_count": 2
  },
  {
   "cell_type": "code",
   "id": "e8d3c2fc7e8a9f61",
   "metadata": {
    "ExecuteTime": {
     "end_time": "2024-06-12T10:12:55.610157Z",
     "start_time": "2024-06-12T10:12:42.919625Z"
    }
   },
   "source": [
    "!bash start-kafka.sh\n",
    "!tail -n 100 kafka/logs/server.log | grep -i \"Kafka Server started\""
   ],
   "outputs": [
    {
     "name": "stdout",
     "output_type": "stream",
     "text": [
      "Starting Kafka 3.7.0 with Scala 2.12\r\n",
      "Starting Kafka 3.7.0\r\n",
      "Stopping Kafka 3.7.0\r\n",
      "Kafka 3.7.0 stopped\r\n",
      "Cleaning up Kafka 3.7.0\r\n",
      "Kafka Cluster ID: _LkT74aOROOJFCSeyg94zw\r\n",
      "Starting Kafka 3.7.0\r\n",
      "metaPropertiesEnsemble=MetaPropertiesEnsemble(metadataLogDir=Optional.empty, dirs={/tmp/kraft-combined-logs: EMPTY})\r\n",
      "Formatting /tmp/kraft-combined-logs with metadata.version 3.7-IV4.\r\n",
      "Starting Kafka 3.7.0 in /home/tudny/Documents/UW/MIMUW-master/PDD/PDD-PZ2/kafka\r\n",
      "Kafka 3.7.0 started\r\n",
      "Waiting for Kafka 3.7.0 to start 5/5\r\n",
      "Kafka 3.7.0 started\r\n",
      "[2024-06-12 12:12:51,728] INFO [KafkaRaftServer nodeId=1] Kafka Server started (kafka.server.KafkaRaftServer)\r\n"
     ]
    }
   ],
   "execution_count": 3
  },
  {
   "cell_type": "code",
   "id": "e7cd804a",
   "metadata": {
    "ExecuteTime": {
     "end_time": "2024-06-12T10:12:55.614114Z",
     "start_time": "2024-06-12T10:12:55.611527Z"
    }
   },
   "source": [
    "TOPIC1 = \"topic1\"\n",
    "TOPIC2 = \"topic2\"\n",
    "BOOTSTRAP_SERVER = \"127.0.0.1:9092\""
   ],
   "outputs": [],
   "execution_count": 4
  },
  {
   "cell_type": "code",
   "id": "01f9a21a",
   "metadata": {
    "ExecuteTime": {
     "end_time": "2024-06-12T10:12:57.793177Z",
     "start_time": "2024-06-12T10:12:55.615929Z"
    }
   },
   "source": [
    "!./create-topics.sh {BOOTSTRAP_SERVER} {TOPIC1} {TOPIC2}"
   ],
   "outputs": [
    {
     "name": "stdout",
     "output_type": "stream",
     "text": [
      "Creating topics...\r\n",
      "Created topic topic1.\r\n",
      "Created topic topic2.\r\n"
     ]
    }
   ],
   "execution_count": 5
  },
  {
   "cell_type": "code",
   "id": "6acd16a9",
   "metadata": {
    "ExecuteTime": {
     "end_time": "2024-06-12T10:12:57.907159Z",
     "start_time": "2024-06-12T10:12:57.794305Z"
    }
   },
   "source": [
    "%env TOPIC1=$TOPIC1\n",
    "%env TOPIC2=$TOPIC2\n",
    "%env BOOTSTRAP_SERVER=$BOOTSTRAP_SERVER\n",
    "!rm -rf data_generator.log"
   ],
   "outputs": [
    {
     "name": "stdout",
     "output_type": "stream",
     "text": [
      "env: TOPIC1=topic1\n",
      "env: TOPIC2=topic2\n",
      "env: BOOTSTRAP_SERVER=127.0.0.1:9092\n"
     ]
    }
   ],
   "execution_count": 6
  },
  {
   "cell_type": "code",
   "id": "1e78b5069b8057e0",
   "metadata": {
    "ExecuteTime": {
     "end_time": "2024-06-12T10:12:57.953508Z",
     "start_time": "2024-06-12T10:12:57.908488Z"
    }
   },
   "source": [
    "%%script bash --bg --proc data_producer_script --out data_producer_output --err data_producer_error\n",
    "echo \"Starting data producer\"\n",
    "bash populate-topics.sh --topic1 $TOPIC1 --topic2 $TOPIC2 --bootstrap_server $BOOTSTRAP_SERVER\n",
    "sleep 1"
   ],
   "outputs": [],
   "execution_count": 7
  },
  {
   "cell_type": "code",
   "id": "86d1e2ea93129fa7",
   "metadata": {
    "ExecuteTime": {
     "end_time": "2024-06-12T10:12:57.957432Z",
     "start_time": "2024-06-12T10:12:57.954828Z"
    }
   },
   "source": "# await data_producer_error.read()",
   "outputs": [],
   "execution_count": 8
  },
  {
   "cell_type": "code",
   "id": "c26de799eab29a8f",
   "metadata": {
    "ExecuteTime": {
     "end_time": "2024-06-12T10:12:57.960763Z",
     "start_time": "2024-06-12T10:12:57.958536Z"
    }
   },
   "source": "# await data_producer_output.read()",
   "outputs": [],
   "execution_count": 9
  },
  {
   "cell_type": "code",
   "id": "5073ab559f5eb94",
   "metadata": {
    "ExecuteTime": {
     "end_time": "2024-06-12T10:13:01.249824Z",
     "start_time": "2024-06-12T10:12:57.962215Z"
    }
   },
   "source": [
    "from pyspark.sql import SparkSession\n",
    "from pyspark.streaming import StreamingContext\n",
    "\n",
    "packages = [\n",
    "    f\"org.apache.spark:spark-sql-kafka-0-10_{PYSPARK_SCALA_VERSION}:{SPARK_VERSION}\",\n",
    "    f\"org.apache.kafka:kafka-clients:{KAFKA_VERSION}\",\n",
    "]\n",
    "# scc.stop(); spark.stop()\n",
    "spark = (\n",
    "    SparkSession.builder.master(\"local[*]\")\n",
    "    .config(\"spark.jars.packages\", \",\".join(packages))\n",
    "    .config(\"spark.sql.streaming.forceDeleteTempCheckpointLocation\", \"true\")\n",
    "    .appName(\"PDD PZ2\")\n",
    "    .getOrCreate()\n",
    ")\n",
    "\n",
    "scc = StreamingContext(spark.sparkContext, 1)"
   ],
   "outputs": [
    {
     "name": "stdout",
     "output_type": "stream",
     "text": [
      ":: loading settings :: url = jar:file:/home/tudny/Documents/UW/MIMUW-master/PDD/PDD-PZ2/venv/lib/python3.11/site-packages/pyspark/jars/ivy-2.5.1.jar!/org/apache/ivy/core/settings/ivysettings.xml\n"
     ]
    },
    {
     "name": "stderr",
     "output_type": "stream",
     "text": [
      "Ivy Default Cache set to: /home/tudny/.ivy2/cache\n",
      "The jars for the packages stored in: /home/tudny/.ivy2/jars\n",
      "org.apache.spark#spark-sql-kafka-0-10_2.12 added as a dependency\n",
      "org.apache.kafka#kafka-clients added as a dependency\n",
      ":: resolving dependencies :: org.apache.spark#spark-submit-parent-a20021b7-e10d-415b-a9dc-e8604931cb5a;1.0\n",
      "\tconfs: [default]\n",
      "\tfound org.apache.spark#spark-sql-kafka-0-10_2.12;3.5.1 in central\n",
      "\tfound org.apache.spark#spark-token-provider-kafka-0-10_2.12;3.5.1 in central\n",
      "\tfound org.apache.hadoop#hadoop-client-runtime;3.3.4 in central\n",
      "\tfound org.apache.hadoop#hadoop-client-api;3.3.4 in central\n",
      "\tfound org.xerial.snappy#snappy-java;1.1.10.3 in central\n",
      "\tfound org.slf4j#slf4j-api;2.0.7 in central\n",
      "\tfound commons-logging#commons-logging;1.1.3 in central\n",
      "\tfound com.google.code.findbugs#jsr305;3.0.0 in central\n",
      "\tfound org.apache.commons#commons-pool2;2.11.1 in central\n",
      "\tfound org.apache.kafka#kafka-clients;3.7.0 in central\n",
      "\tfound com.github.luben#zstd-jni;1.5.5-6 in central\n",
      "\tfound org.lz4#lz4-java;1.8.0 in central\n",
      "\tfound org.xerial.snappy#snappy-java;1.1.10.5 in central\n",
      ":: resolution report :: resolve 662ms :: artifacts dl 14ms\n",
      "\t:: modules in use:\n",
      "\tcom.github.luben#zstd-jni;1.5.5-6 from central in [default]\n",
      "\tcom.google.code.findbugs#jsr305;3.0.0 from central in [default]\n",
      "\tcommons-logging#commons-logging;1.1.3 from central in [default]\n",
      "\torg.apache.commons#commons-pool2;2.11.1 from central in [default]\n",
      "\torg.apache.hadoop#hadoop-client-api;3.3.4 from central in [default]\n",
      "\torg.apache.hadoop#hadoop-client-runtime;3.3.4 from central in [default]\n",
      "\torg.apache.kafka#kafka-clients;3.7.0 from central in [default]\n",
      "\torg.apache.spark#spark-sql-kafka-0-10_2.12;3.5.1 from central in [default]\n",
      "\torg.apache.spark#spark-token-provider-kafka-0-10_2.12;3.5.1 from central in [default]\n",
      "\torg.lz4#lz4-java;1.8.0 from central in [default]\n",
      "\torg.slf4j#slf4j-api;2.0.7 from central in [default]\n",
      "\torg.xerial.snappy#snappy-java;1.1.10.5 from central in [default]\n",
      "\t:: evicted modules:\n",
      "\torg.apache.kafka#kafka-clients;3.4.1 by [org.apache.kafka#kafka-clients;3.7.0] in [default]\n",
      "\torg.xerial.snappy#snappy-java;1.1.10.3 by [org.xerial.snappy#snappy-java;1.1.10.5] in [default]\n",
      "\torg.slf4j#slf4j-api;1.7.36 by [org.slf4j#slf4j-api;2.0.7] in [default]\n",
      "\t---------------------------------------------------------------------\n",
      "\t|                  |            modules            ||   artifacts   |\n",
      "\t|       conf       | number| search|dwnlded|evicted|| number|dwnlded|\n",
      "\t---------------------------------------------------------------------\n",
      "\t|      default     |   15  |   1   |   1   |   3   ||   12  |   0   |\n",
      "\t---------------------------------------------------------------------\n",
      "\n",
      ":: problems summary ::\n",
      ":::: ERRORS\n",
      "\tunknown resolver null\n",
      "\n",
      "\n",
      ":: USE VERBOSE OR DEBUG MESSAGE LEVEL FOR MORE DETAILS\n",
      ":: retrieving :: org.apache.spark#spark-submit-parent-a20021b7-e10d-415b-a9dc-e8604931cb5a\n",
      "\tconfs: [default]\n",
      "\t0 artifacts copied, 12 already retrieved (0kB/8ms)\n",
      "24/06/12 12:12:59 WARN NativeCodeLoader: Unable to load native-hadoop library for your platform... using builtin-java classes where applicable\n",
      "Setting default log level to \"WARN\".\n",
      "To adjust logging level use sc.setLogLevel(newLevel). For SparkR, use setLogLevel(newLevel).\n",
      "/home/tudny/Documents/UW/MIMUW-master/PDD/PDD-PZ2/venv/lib/python3.11/site-packages/pyspark/streaming/context.py:72: FutureWarning: DStream is deprecated as of Spark 3.4.0. Migrate to Structured Streaming.\n",
      "  warnings.warn(\n"
     ]
    }
   ],
   "execution_count": 10
  },
  {
   "cell_type": "code",
   "id": "1210dbd9",
   "metadata": {
    "ExecuteTime": {
     "end_time": "2024-06-12T10:13:06.529987Z",
     "start_time": "2024-06-12T10:13:01.252652Z"
    }
   },
   "source": [
    "!kafka/bin/kafka-console-consumer.sh --topic {TOPIC1} --max-messages 10 --bootstrap-server {BOOTSTRAP_SERVER}"
   ],
   "outputs": [
    {
     "name": "stdout",
     "output_type": "stream",
     "text": [
      "{\"time_point\": 126156, \"value\": 0.09410680739826649}\r\n",
      "{\"time_point\": 126157, \"value\": 0.5118207314609834}\r\n",
      "{\"time_point\": 126158, \"value\": 0.11662237010053167}\r\n",
      "{\"time_point\": 126159, \"value\": 0.47778886507832974}\r\n",
      "{\"time_point\": 126160, \"value\": 0.09959175616732985}\r\n",
      "{\"time_point\": 126161, \"value\": 0.8201016717563743}\r\n",
      "{\"time_point\": 126162, \"value\": 0.7995540866076996}\r\n",
      "{\"time_point\": 126163, \"value\": 0.5207838250880776}\r\n",
      "{\"time_point\": 126164, \"value\": 0.06826958391362503}\r\n",
      "{\"time_point\": 126166, \"value\": 0.09403094615406071}\r\n",
      "Processed a total of 10 messages\r\n"
     ]
    }
   ],
   "execution_count": 11
  },
  {
   "cell_type": "code",
   "id": "c03941c165151ab0",
   "metadata": {
    "ExecuteTime": {
     "end_time": "2024-06-12T10:13:11.342283Z",
     "start_time": "2024-06-12T10:13:06.531518Z"
    }
   },
   "source": [
    "!kafka/bin/kafka-console-consumer.sh --topic {TOPIC2} --max-messages 10 --bootstrap-server {BOOTSTRAP_SERVER}"
   ],
   "outputs": [
    {
     "name": "stdout",
     "output_type": "stream",
     "text": [
      "{\"time_point\": 214274, \"value\": 0.30168400567203246}\r\n",
      "{\"time_point\": 214275, \"value\": 3.084737043177089}\r\n",
      "{\"time_point\": 214276, \"value\": 2.714406339279887}\r\n",
      "{\"time_point\": 214277, \"value\": 1.8041776383006902}\r\n",
      "{\"time_point\": 214278, \"value\": 2.4481351609087056}\r\n",
      "{\"time_point\": 214279, \"value\": 1.1925350243393145}\r\n",
      "{\"time_point\": 214280, \"value\": 2.24592130709534}\r\n",
      "{\"time_point\": 214281, \"value\": 1.0229729390096782}\r\n",
      "{\"time_point\": 214283, \"value\": 0.7497465561523857}\r\n",
      "{\"time_point\": 214284, \"value\": 0.5707870853226493}\r\n",
      "Processed a total of 10 messages\r\n"
     ]
    }
   ],
   "execution_count": 12
  },
  {
   "cell_type": "code",
   "id": "3de1f1668b0db172",
   "metadata": {
    "ExecuteTime": {
     "end_time": "2024-06-12T10:13:12.971114Z",
     "start_time": "2024-06-12T10:13:11.343259Z"
    }
   },
   "source": [
    "from pyspark.sql.types import StructType, FloatType, IntegerType, StructField\n",
    "from pyspark.sql import functions as F\n",
    "from pyspark.sql.streaming.state import GroupStateTimeout\n",
    "import pandas as pd\n",
    "\n",
    "df = (\n",
    "    spark.readStream.format(\"kafka\")\n",
    "    .option(\"kafka.bootstrap.servers\", BOOTSTRAP_SERVER)\n",
    "    .option(\"subscribe\", f\"{TOPIC1},{TOPIC2}\")\n",
    "    .option(\"startingOffsets\", \"earliest\")\n",
    "    .load()\n",
    ")\n",
    "\n",
    "# {\"time_point\": 53475, \"value\": 2.8696007107000634}\n",
    "schema = StructType(\n",
    "    [\n",
    "        StructField(\"time_point\", IntegerType(), True),\n",
    "        StructField(\"value\", FloatType(), True),\n",
    "    ]\n",
    ")\n",
    "\n",
    "df = df.select(\n",
    "    F.from_json(F.col(\"value\").cast(\"string\"), schema).alias(\"value\"),\n",
    "    F.col(\"topic\"),\n",
    ").select(\n",
    "    F.col(\"topic\"),\n",
    "    F.col(\"value.time_point\").alias(\"time_point\"),\n",
    "    F.col(\"value.value\").alias(\"value\"),\n",
    ")"
   ],
   "outputs": [],
   "execution_count": 13
  },
  {
   "cell_type": "code",
   "id": "2e35a88f21d40d0c",
   "metadata": {
    "ExecuteTime": {
     "end_time": "2024-06-12T10:13:12.977655Z",
     "start_time": "2024-06-12T10:13:12.972906Z"
    }
   },
   "source": [
    "# def state_func(key, data, state):\n",
    "#     item_count = (state.exists and state.get[0]) or 0\n",
    "#     columns_str = \"\"\n",
    "#     for el in data:\n",
    "#         columns_str += ''.join([f\"{k}, \" for k in el])\n",
    "#         item_count += len(el)\n",
    "#     state.update((item_count,))\n",
    "#     yield pd.DataFrame({\n",
    "#         \"id\": [key[0]],\n",
    "#         \"countAsString\": [str(item_count)],\n",
    "#         \"columns\": [columns_str]\n",
    "#     })\n",
    "#\n",
    "# samples = df.groupby(\"topic\").applyInPandasWithState(\n",
    "#     state_func,\n",
    "#     outputStructType=\"id string, countAsString string, columns string\",\n",
    "#     stateStructType=\"len long\",\n",
    "#     outputMode=\"append\",\n",
    "#     timeoutConf=GroupStateTimeout.ProcessingTimeTimeout\n",
    "# )\n",
    "#\n",
    "# query = samples.writeStream \\\n",
    "#     .outputMode(\"append\") \\\n",
    "#     .format(\"console\") \\\n",
    "#     .start()\n",
    "#\n",
    "# query.awaitTermination(100)\n",
    "# query.stop()"
   ],
   "outputs": [],
   "execution_count": 14
  },
  {
   "cell_type": "code",
   "id": "ecffdf1e1def3976",
   "metadata": {
    "ExecuteTime": {
     "end_time": "2024-06-12T10:13:14.293713Z",
     "start_time": "2024-06-12T10:13:12.980130Z"
    }
   },
   "source": [
    "from typing import Iterable, Tuple, Final\n",
    "from pyspark.sql.streaming.state import GroupState\n",
    "from pyspark.sql.types import (\n",
    "    ArrayType,\n",
    "    FloatType,\n",
    "    StringType,\n",
    "    StructType,\n",
    "    StructField,\n",
    "    LongType,\n",
    ")\n",
    "import numpy as np\n",
    "from scipy.stats import kstest\n",
    "\n",
    "MAX_SAMPLE_SIZE: Final[int] = 1000\n",
    "SAMPLE_SAVE_TIME: Final[int] = 100_000\n",
    "COUNT_DUMP_MULTIPLIER: Final[int] = 10000\n",
    "\n",
    "LAMBDA_FACTOR: Final[float] = 1e-5\n",
    "P_IN: Final[float] = float(MAX_SAMPLE_SIZE) * LAMBDA_FACTOR\n",
    "\n",
    "\n",
    "def run_kstests(sample: Iterable[float], previous_samples: Iterable[Iterable[float]]):\n",
    "    return [\n",
    "        kstest(sample, previous_sample).pvalue for previous_sample in previous_samples\n",
    "    ]\n",
    "\n",
    "\n",
    "def reservoir_sampling_state_func(\n",
    "    key: Tuple[str],\n",
    "    pdfs: Iterable[pd.DataFrame],\n",
    "    state: GroupState,\n",
    "):\n",
    "    def pack_to_json(res_type, idx, topic, s):\n",
    "        return f\"\"\"{{\n",
    "            \"type\": \"{res_type}\",\n",
    "            \"idx\": {idx},\n",
    "            \"topic\": \"{topic}\",\n",
    "            \"s\": {s:.2}\n",
    "        }}\"\"\"\n",
    "\n",
    "    (topic_name,) = key\n",
    "    (\n",
    "        current_sample,\n",
    "        current_paper_sample,\n",
    "        current_stream_size,\n",
    "        next_save_moment,\n",
    "        previous_samples,\n",
    "        previous_paper_samples,\n",
    "    ) = (state.exists and state.get) or ([], [], 0, 1, [], [])\n",
    "\n",
    "    joined_pdfs = pd.concat(pdfs)\n",
    "    joined_pdfs.sort_values(\"time_point\", inplace=True)\n",
    "\n",
    "    for _, time_point, value in joined_pdfs.values:\n",
    "        if next_save_moment is None:\n",
    "            raise ValueError(\n",
    "                f\"{state=} {next_save_moment=} {current_sample=} {current_stream_size=} {state.get=}\"\n",
    "            )\n",
    "        if time_point >= next_save_moment * SAMPLE_SAVE_TIME:\n",
    "            state.update(\n",
    "                (\n",
    "                    current_sample,\n",
    "                    current_paper_sample,\n",
    "                    current_stream_size,\n",
    "                    next_save_moment + 1,\n",
    "                    [current_sample] + previous_samples[:3],\n",
    "                    [current_paper_sample] + previous_paper_samples[:3],\n",
    "                )\n",
    "            )\n",
    "            yield pd.DataFrame(\n",
    "                {\n",
    "                    \"topic\": [topic_name],\n",
    "                    \"save_moment\": [next_save_moment],\n",
    "                    \"sample\": [current_sample],\n",
    "                    \"paper_sample\": [current_paper_sample],\n",
    "                    \"kstest\": [\n",
    "                        [\"\"]\n",
    "                        + [\n",
    "                            pack_to_json(\"RS\", -idx - 1, topic_name, r)\n",
    "                            for idx, r in enumerate(\n",
    "                                run_kstests(current_sample, previous_samples)\n",
    "                            )\n",
    "                        ]\n",
    "                        + [\n",
    "                            pack_to_json(\"PS\", -idx - 1, topic_name, r)\n",
    "                            for idx, r in enumerate(\n",
    "                                run_kstests(\n",
    "                                    current_paper_sample, previous_paper_samples\n",
    "                                )\n",
    "                            )\n",
    "                        ]\n",
    "                    ],\n",
    "                }\n",
    "            )\n",
    "            if not state.exists:\n",
    "                raise ValueError(\n",
    "                    f\"State doesnt exist, but should {state=} {next_save_moment=} {current_sample=} {current_stream_size=} {state.get=}\"\n",
    "                )\n",
    "            (\n",
    "                current_sample,\n",
    "                current_paper_sample,\n",
    "                current_stream_size,\n",
    "                next_save_moment,\n",
    "                previous_samples,\n",
    "                previous_paper_samples,\n",
    "            ) = state.get\n",
    "\n",
    "        current_stream_size += 1\n",
    "        if len(current_sample) < MAX_SAMPLE_SIZE:\n",
    "            current_sample.append(value)\n",
    "        else:\n",
    "            idx = np.random.randint(0, current_stream_size)\n",
    "            if idx < MAX_SAMPLE_SIZE:\n",
    "                current_sample[idx] = value\n",
    "\n",
    "        if np.random.rand() < P_IN:\n",
    "            f_x = len(current_paper_sample) / MAX_SAMPLE_SIZE\n",
    "            if np.random.rand() < f_x:\n",
    "                randomly_picked_idx = np.random.randint(0, len(current_paper_sample))\n",
    "                current_paper_sample[randomly_picked_idx] = value\n",
    "            else:\n",
    "                current_paper_sample.append(value)\n",
    "\n",
    "    state.update(\n",
    "        (\n",
    "            current_sample,\n",
    "            current_paper_sample,\n",
    "            current_stream_size,\n",
    "            next_save_moment,\n",
    "            previous_samples,\n",
    "            previous_paper_samples,\n",
    "        )\n",
    "    )\n",
    "\n",
    "\n",
    "reservoir_sampling_state_schema = StructType(\n",
    "    [\n",
    "        StructField(\"sample\", ArrayType(FloatType()), True),\n",
    "        StructField(\"paper_sample\", ArrayType(FloatType()), True),\n",
    "        StructField(\"stream_size\", LongType(), True),\n",
    "        StructField(\"next_save_moment\", LongType(), True),\n",
    "        StructField(\"previous_samples\", ArrayType(ArrayType(FloatType())), True),\n",
    "        StructField(\"previous_paper_samples\", ArrayType(ArrayType(FloatType())), True),\n",
    "    ]\n",
    ")\n",
    "\n",
    "reservoir_sampling_output_schema = StructType(\n",
    "    [\n",
    "        StructField(\"topic\", StringType(), True),\n",
    "        StructField(\"save_moment\", LongType(), True),\n",
    "        StructField(\"sample\", ArrayType(FloatType()), True),\n",
    "        StructField(\"paper_sample\", ArrayType(FloatType()), True),\n",
    "        StructField(\"kstest\", ArrayType(StringType()), True),\n",
    "    ]\n",
    ")\n",
    "\n",
    "samples = df.groupby(\"topic\").applyInPandasWithState(\n",
    "    reservoir_sampling_state_func,\n",
    "    outputStructType=reservoir_sampling_output_schema,\n",
    "    stateStructType=reservoir_sampling_state_schema,\n",
    "    outputMode=\"append\",\n",
    "    timeoutConf=GroupStateTimeout.ProcessingTimeTimeout,\n",
    ")\n",
    "\n",
    "x = (\n",
    "    samples.groupBy(\"save_moment\")\n",
    "    .agg(\n",
    "        F.collect_list(\"topic\").alias(\"topic\"),\n",
    "        F.collect_list(\"sample\").alias(\"sample\"),\n",
    "        F.collect_list(\"paper_sample\").alias(\"paper_sample\"),\n",
    "        F.collect_list(\"kstest\").alias(\"kstest\"),\n",
    "    )\n",
    "    .filter(F.size(F.col(\"topic\")) == 2)\n",
    "    .select(\n",
    "        F.col(\"save_moment\"),\n",
    "        F.col(\"topic\"),\n",
    "        F.col(\"sample\"),\n",
    "        F.col(\"paper_sample\"),\n",
    "        F.col(\"kstest\"),\n",
    "    )\n",
    ")\n",
    "\n",
    "y = x.select(\n",
    "    F.col(\"save_moment\"),\n",
    "    F.col(\"topic\"),\n",
    "    F.udf(lambda s: f\"{run_kstests(s[0], [s[1]])[0]:.2}\", StringType())(\n",
    "        F.col(\"sample\")\n",
    "    ).alias(\"kstest-topics\"),\n",
    "    F.udf(lambda s: f\"{run_kstests(s[0], [s[1]])[0]:.2}\", StringType())(\n",
    "        F.col(\"paper_sample\")\n",
    "    ).alias(\"kstest-topics-paper\"),\n",
    "    F.col(\"kstest\"),\n",
    ")\n",
    "\n",
    "kstest_schema = StructType(\n",
    "    [\n",
    "        StructField(\"type\", StringType(), True),\n",
    "        StructField(\"idx\", IntegerType(), True),\n",
    "        StructField(\"topic\", StringType(), True),\n",
    "        StructField(\"s\", FloatType(), True),\n",
    "    ]\n",
    ")\n",
    "\n",
    "\n",
    "def empty_if_null(col):\n",
    "    return F.when(F.isnull(col), F.lit(\"\")).otherwise(col)\n",
    "\n",
    "\n",
    "z = (\n",
    "    y.select(\n",
    "        F.col(\"save_moment\"),\n",
    "        F.col(\"topic\"),\n",
    "        F.col(\"kstest-topics\"),\n",
    "        F.col(\"kstest-topics-paper\"),\n",
    "        F.explode(F.col(\"kstest\")).alias(\"kstest\"),\n",
    "    )\n",
    "    .select(\n",
    "        F.col(\"save_moment\"),\n",
    "        F.col(\"topic\"),\n",
    "        F.col(\"kstest-topics\"),\n",
    "        F.col(\"kstest-topics-paper\"),\n",
    "        F.explode(F.col(\"kstest\")).alias(\"kstest\"),\n",
    "    )\n",
    "    .select(\n",
    "        F.col(\"save_moment\"),\n",
    "        F.col(\"topic\"),\n",
    "        F.when(F.length(F.col(\"kstest\")) == F.lit(0), F.col(\"kstest-topics\"))\n",
    "        .otherwise(F.lit(\"\"))\n",
    "        .alias(\"kstest-topics\"),\n",
    "        F.when(F.length(F.col(\"kstest\")) == F.lit(0), F.col(\"kstest-topics-paper\"))\n",
    "        .otherwise(F.lit(\"\"))\n",
    "        .alias(\"kstest-topics-paper\"),\n",
    "        F.from_json(F.col(\"kstest\"), kstest_schema).alias(\"kstest\"),\n",
    "    )\n",
    "    .select(\n",
    "        F.col(\"save_moment\").alias(\"Sample save moment\"),\n",
    "        F.col(\"topic\").alias(\"Tested topics\"),\n",
    "        F.col(\"kstest-topics\").alias(\"KS Test topics (RS)\"),\n",
    "        F.col(\"kstest-topics-paper\").alias(\"KS Test topics (PS)\"),\n",
    "        empty_if_null(F.col(\"kstest.type\")).alias(\"Sampling type\"),\n",
    "        empty_if_null(F.col(\"kstest.idx\")).alias(\"KS test idx\"),\n",
    "        empty_if_null(F.col(\"kstest.topic\")).alias(\"KS test topic\"),\n",
    "        empty_if_null(F.col(\"kstest.s\")).alias(\"KS test p-value\"),\n",
    "    )\n",
    ")\n",
    "\n",
    "query = (\n",
    "    z.writeStream.outputMode(\"update\")\n",
    "    .option(\"numRows\", 1000)\n",
    "    .option(\"truncate\", False)\n",
    "    .format(\"console\")\n",
    "    .start()\n",
    "    \n",
    ")"
   ],
   "outputs": [
    {
     "name": "stderr",
     "output_type": "stream",
     "text": [
      "24/06/12 12:13:14 WARN ResolveWriteToStream: Temporary checkpoint location created which is deleted normally when the query didn't fail: /tmp/temporary-fa2ce04d-b5f0-4332-9220-e6aff5d46def. If it's required to delete it under any circumstances, please set spark.sql.streaming.forceDeleteTempCheckpointLocation to true. Important to know deleting temp checkpoint folder is best effort.\n",
      "24/06/12 12:13:14 WARN ResolveWriteToStream: spark.sql.adaptive.enabled is not supported in streaming DataFrames/Datasets and will be disabled.\n"
     ]
    }
   ],
   "execution_count": 15
  },
  {
   "cell_type": "code",
   "id": "45cb363a5a442473",
   "metadata": {
    "ExecuteTime": {
     "end_time": "2024-06-12T10:20:57.050812Z",
     "start_time": "2024-06-12T10:13:14.295218Z"
    }
   },
   "source": [
    "query.awaitTermination()\n",
    "query.stop()"
   ],
   "outputs": [
    {
     "name": "stderr",
     "output_type": "stream",
     "text": [
      "                                                                                \r"
     ]
    },
    {
     "name": "stdout",
     "output_type": "stream",
     "text": [
      "-------------------------------------------\n",
      "Batch: 0\n",
      "-------------------------------------------\n",
      "+------------------+----------------+-------------------+-------------------+-------------+-----------+-------------+---------------+\n",
      "|Sample save moment|Tested topics   |KS Test topics (RS)|KS Test topics (PS)|Sampling type|KS test idx|KS test topic|KS test p-value|\n",
      "+------------------+----------------+-------------------+-------------------+-------------+-----------+-------------+---------------+\n",
      "|1                 |[topic2, topic1]|0.0                |0.0                |             |           |             |               |\n",
      "|1                 |[topic2, topic1]|0.0                |0.0                |             |           |             |               |\n",
      "|2                 |[topic2, topic1]|0.0                |0.0                |             |           |             |               |\n",
      "|2                 |[topic2, topic1]|                   |                   |RS           |-1         |topic2       |1.0            |\n",
      "|2                 |[topic2, topic1]|                   |                   |PS           |-1         |topic2       |1.0            |\n",
      "|2                 |[topic2, topic1]|0.0                |0.0                |             |           |             |               |\n",
      "|2                 |[topic2, topic1]|                   |                   |RS           |-1         |topic1       |1.0            |\n",
      "|2                 |[topic2, topic1]|                   |                   |PS           |-1         |topic1       |1.0            |\n",
      "+------------------+----------------+-------------------+-------------------+-------------+-----------+-------------+---------------+\n",
      "\n"
     ]
    },
    {
     "name": "stderr",
     "output_type": "stream",
     "text": [
      "                                                                                \r"
     ]
    },
    {
     "name": "stdout",
     "output_type": "stream",
     "text": [
      "-------------------------------------------\n",
      "Batch: 1\n",
      "-------------------------------------------\n",
      "+------------------+----------------+-------------------+-------------------+-------------+-----------+-------------+---------------+\n",
      "|Sample save moment|Tested topics   |KS Test topics (RS)|KS Test topics (PS)|Sampling type|KS test idx|KS test topic|KS test p-value|\n",
      "+------------------+----------------+-------------------+-------------------+-------------+-----------+-------------+---------------+\n",
      "|5                 |[topic2, topic1]|8.6e-243           |1.9e-82            |             |           |             |               |\n",
      "|5                 |[topic2, topic1]|                   |                   |RS           |-1         |topic2       |1.0            |\n",
      "|5                 |[topic2, topic1]|                   |                   |RS           |-2         |topic2       |1.0            |\n",
      "|5                 |[topic2, topic1]|                   |                   |RS           |-3         |topic2       |1.4E-5         |\n",
      "|5                 |[topic2, topic1]|                   |                   |RS           |-4         |topic2       |1.4E-5         |\n",
      "|5                 |[topic2, topic1]|                   |                   |PS           |-1         |topic2       |1.0            |\n",
      "|5                 |[topic2, topic1]|                   |                   |PS           |-2         |topic2       |1.0            |\n",
      "|5                 |[topic2, topic1]|                   |                   |PS           |-3         |topic2       |0.0            |\n",
      "|5                 |[topic2, topic1]|                   |                   |PS           |-4         |topic2       |0.0            |\n",
      "|5                 |[topic2, topic1]|8.6e-243           |1.9e-82            |             |           |             |               |\n",
      "|5                 |[topic2, topic1]|                   |                   |RS           |-1         |topic1       |1.0            |\n",
      "|5                 |[topic2, topic1]|                   |                   |RS           |-2         |topic1       |1.0            |\n",
      "|5                 |[topic2, topic1]|                   |                   |RS           |-3         |topic1       |0.94           |\n",
      "|5                 |[topic2, topic1]|                   |                   |RS           |-4         |topic1       |0.94           |\n",
      "|5                 |[topic2, topic1]|                   |                   |PS           |-1         |topic1       |1.0            |\n",
      "|5                 |[topic2, topic1]|                   |                   |PS           |-2         |topic1       |1.0            |\n",
      "|5                 |[topic2, topic1]|                   |                   |PS           |-3         |topic1       |0.79           |\n",
      "|5                 |[topic2, topic1]|                   |                   |PS           |-4         |topic1       |0.79           |\n",
      "|3                 |[topic2, topic1]|8.6e-243           |1.9e-82            |             |           |             |               |\n",
      "|3                 |[topic2, topic1]|                   |                   |RS           |-1         |topic2       |1.0            |\n",
      "|3                 |[topic2, topic1]|                   |                   |RS           |-2         |topic2       |1.0            |\n",
      "|3                 |[topic2, topic1]|                   |                   |PS           |-1         |topic2       |0.97           |\n",
      "|3                 |[topic2, topic1]|                   |                   |PS           |-2         |topic2       |0.97           |\n",
      "|3                 |[topic2, topic1]|8.6e-243           |1.9e-82            |             |           |             |               |\n",
      "|3                 |[topic2, topic1]|                   |                   |RS           |-1         |topic1       |0.99           |\n",
      "|3                 |[topic2, topic1]|                   |                   |RS           |-2         |topic1       |0.99           |\n",
      "|3                 |[topic2, topic1]|                   |                   |PS           |-1         |topic1       |0.76           |\n",
      "|3                 |[topic2, topic1]|                   |                   |PS           |-2         |topic1       |0.76           |\n",
      "|4                 |[topic2, topic1]|8.6e-243           |1.9e-82            |             |           |             |               |\n",
      "|4                 |[topic2, topic1]|                   |                   |RS           |-1         |topic2       |1.0            |\n",
      "|4                 |[topic2, topic1]|                   |                   |RS           |-2         |topic2       |0.2            |\n",
      "|4                 |[topic2, topic1]|                   |                   |RS           |-3         |topic2       |0.2            |\n",
      "|4                 |[topic2, topic1]|                   |                   |PS           |-1         |topic2       |1.0            |\n",
      "|4                 |[topic2, topic1]|                   |                   |PS           |-2         |topic2       |5.6E-6         |\n",
      "|4                 |[topic2, topic1]|                   |                   |PS           |-3         |topic2       |5.6E-6         |\n",
      "|4                 |[topic2, topic1]|8.6e-243           |1.9e-82            |             |           |             |               |\n",
      "|4                 |[topic2, topic1]|                   |                   |RS           |-1         |topic1       |1.0            |\n",
      "|4                 |[topic2, topic1]|                   |                   |RS           |-2         |topic1       |0.89           |\n",
      "|4                 |[topic2, topic1]|                   |                   |RS           |-3         |topic1       |0.89           |\n",
      "|4                 |[topic2, topic1]|                   |                   |PS           |-1         |topic1       |1.0            |\n",
      "|4                 |[topic2, topic1]|                   |                   |PS           |-2         |topic1       |0.88           |\n",
      "|4                 |[topic2, topic1]|                   |                   |PS           |-3         |topic1       |0.88           |\n",
      "+------------------+----------------+-------------------+-------------------+-------------+-----------+-------------+---------------+\n",
      "\n"
     ]
    },
    {
     "name": "stderr",
     "output_type": "stream",
     "text": [
      "                                                                                \r"
     ]
    },
    {
     "name": "stdout",
     "output_type": "stream",
     "text": [
      "-------------------------------------------\n",
      "Batch: 2\n",
      "-------------------------------------------\n",
      "+------------------+----------------+-------------------+-------------------+-------------+-----------+-------------+---------------+\n",
      "|Sample save moment|Tested topics   |KS Test topics (RS)|KS Test topics (PS)|Sampling type|KS test idx|KS test topic|KS test p-value|\n",
      "+------------------+----------------+-------------------+-------------------+-------------+-----------+-------------+---------------+\n",
      "|7                 |[topic2, topic1]|2.4e-117           |0.0017             |             |           |             |               |\n",
      "|7                 |[topic2, topic1]|                   |                   |RS           |-1         |topic2       |1.0            |\n",
      "|7                 |[topic2, topic1]|                   |                   |RS           |-2         |topic2       |3.7E-12        |\n",
      "|7                 |[topic2, topic1]|                   |                   |RS           |-3         |topic2       |3.7E-12        |\n",
      "|7                 |[topic2, topic1]|                   |                   |RS           |-4         |topic2       |3.7E-12        |\n",
      "|7                 |[topic2, topic1]|                   |                   |PS           |-1         |topic2       |1.0            |\n",
      "|7                 |[topic2, topic1]|                   |                   |PS           |-2         |topic2       |0.0            |\n",
      "|7                 |[topic2, topic1]|                   |                   |PS           |-3         |topic2       |0.0            |\n",
      "|7                 |[topic2, topic1]|                   |                   |PS           |-4         |topic2       |0.0            |\n",
      "|7                 |[topic2, topic1]|2.4e-117           |0.0017             |             |           |             |               |\n",
      "|7                 |[topic2, topic1]|                   |                   |RS           |-1         |topic1       |1.0            |\n",
      "|7                 |[topic2, topic1]|                   |                   |RS           |-2         |topic1       |1.0            |\n",
      "|7                 |[topic2, topic1]|                   |                   |RS           |-3         |topic1       |1.0            |\n",
      "|7                 |[topic2, topic1]|                   |                   |RS           |-4         |topic1       |1.0            |\n",
      "|7                 |[topic2, topic1]|                   |                   |PS           |-1         |topic1       |1.0            |\n",
      "|7                 |[topic2, topic1]|                   |                   |PS           |-2         |topic1       |0.52           |\n",
      "|7                 |[topic2, topic1]|                   |                   |PS           |-3         |topic1       |0.52           |\n",
      "|7                 |[topic2, topic1]|                   |                   |PS           |-4         |topic1       |0.52           |\n",
      "|6                 |[topic2, topic1]|2.4e-117           |0.0017             |             |           |             |               |\n",
      "|6                 |[topic2, topic1]|                   |                   |RS           |-1         |topic2       |0.038          |\n",
      "|6                 |[topic2, topic1]|                   |                   |RS           |-2         |topic2       |0.038          |\n",
      "|6                 |[topic2, topic1]|                   |                   |RS           |-3         |topic2       |0.038          |\n",
      "|6                 |[topic2, topic1]|                   |                   |RS           |-4         |topic2       |2.3E-16        |\n",
      "|6                 |[topic2, topic1]|                   |                   |PS           |-1         |topic2       |2.5E-10        |\n",
      "|6                 |[topic2, topic1]|                   |                   |PS           |-2         |topic2       |2.5E-10        |\n",
      "|6                 |[topic2, topic1]|                   |                   |PS           |-3         |topic2       |2.5E-10        |\n",
      "|6                 |[topic2, topic1]|                   |                   |PS           |-4         |topic2       |0.0            |\n",
      "|6                 |[topic2, topic1]|2.4e-117           |0.0017             |             |           |             |               |\n",
      "|6                 |[topic2, topic1]|                   |                   |RS           |-1         |topic1       |1.0            |\n",
      "|6                 |[topic2, topic1]|                   |                   |RS           |-2         |topic1       |1.0            |\n",
      "|6                 |[topic2, topic1]|                   |                   |RS           |-3         |topic1       |1.0            |\n",
      "|6                 |[topic2, topic1]|                   |                   |RS           |-4         |topic1       |0.83           |\n",
      "|6                 |[topic2, topic1]|                   |                   |PS           |-1         |topic1       |0.82           |\n",
      "|6                 |[topic2, topic1]|                   |                   |PS           |-2         |topic1       |0.82           |\n",
      "|6                 |[topic2, topic1]|                   |                   |PS           |-3         |topic1       |0.82           |\n",
      "|6                 |[topic2, topic1]|                   |                   |PS           |-4         |topic1       |0.95           |\n",
      "+------------------+----------------+-------------------+-------------------+-------------+-----------+-------------+---------------+\n",
      "\n"
     ]
    },
    {
     "name": "stderr",
     "output_type": "stream",
     "text": [
      "                                                                                \r"
     ]
    },
    {
     "name": "stdout",
     "output_type": "stream",
     "text": [
      "-------------------------------------------\n",
      "Batch: 3\n",
      "-------------------------------------------\n",
      "+------------------+----------------+-------------------+-------------------+-------------+-----------+-------------+---------------+\n",
      "|Sample save moment|Tested topics   |KS Test topics (RS)|KS Test topics (PS)|Sampling type|KS test idx|KS test topic|KS test p-value|\n",
      "+------------------+----------------+-------------------+-------------------+-------------+-----------+-------------+---------------+\n",
      "|9                 |[topic2, topic1]|2e-79              |0.5                |             |           |             |               |\n",
      "|9                 |[topic2, topic1]|                   |                   |RS           |-1         |topic2       |1.0            |\n",
      "|9                 |[topic2, topic1]|                   |                   |RS           |-2         |topic2       |0.038          |\n",
      "|9                 |[topic2, topic1]|                   |                   |RS           |-3         |topic2       |0.038          |\n",
      "|9                 |[topic2, topic1]|                   |                   |RS           |-4         |topic2       |3.2E-32        |\n",
      "|9                 |[topic2, topic1]|                   |                   |PS           |-1         |topic2       |1.0            |\n",
      "|9                 |[topic2, topic1]|                   |                   |PS           |-2         |topic2       |0.0035         |\n",
      "|9                 |[topic2, topic1]|                   |                   |PS           |-3         |topic2       |0.0035         |\n",
      "|9                 |[topic2, topic1]|                   |                   |PS           |-4         |topic2       |0.0            |\n",
      "|9                 |[topic2, topic1]|2e-79              |0.5                |             |           |             |               |\n",
      "|9                 |[topic2, topic1]|                   |                   |RS           |-1         |topic1       |1.0            |\n",
      "|9                 |[topic2, topic1]|                   |                   |RS           |-2         |topic1       |1.0            |\n",
      "|9                 |[topic2, topic1]|                   |                   |RS           |-3         |topic1       |1.0            |\n",
      "|9                 |[topic2, topic1]|                   |                   |RS           |-4         |topic1       |1.0            |\n",
      "|9                 |[topic2, topic1]|                   |                   |PS           |-1         |topic1       |1.0            |\n",
      "|9                 |[topic2, topic1]|                   |                   |PS           |-2         |topic1       |0.055          |\n",
      "|9                 |[topic2, topic1]|                   |                   |PS           |-3         |topic1       |0.055          |\n",
      "|9                 |[topic2, topic1]|                   |                   |PS           |-4         |topic1       |0.87           |\n",
      "|8                 |[topic2, topic1]|2e-79              |0.5                |             |           |             |               |\n",
      "|8                 |[topic2, topic1]|                   |                   |RS           |-1         |topic2       |0.97           |\n",
      "|8                 |[topic2, topic1]|                   |                   |RS           |-2         |topic2       |0.97           |\n",
      "|8                 |[topic2, topic1]|                   |                   |RS           |-3         |topic2       |2.2E-23        |\n",
      "|8                 |[topic2, topic1]|                   |                   |RS           |-4         |topic2       |2.2E-23        |\n",
      "|8                 |[topic2, topic1]|                   |                   |PS           |-1         |topic2       |0.87           |\n",
      "|8                 |[topic2, topic1]|                   |                   |PS           |-2         |topic2       |0.87           |\n",
      "|8                 |[topic2, topic1]|                   |                   |PS           |-3         |topic2       |0.0            |\n",
      "|8                 |[topic2, topic1]|                   |                   |PS           |-4         |topic2       |0.0            |\n",
      "|8                 |[topic2, topic1]|2e-79              |0.5                |             |           |             |               |\n",
      "|8                 |[topic2, topic1]|                   |                   |RS           |-1         |topic1       |1.0            |\n",
      "|8                 |[topic2, topic1]|                   |                   |RS           |-2         |topic1       |1.0            |\n",
      "|8                 |[topic2, topic1]|                   |                   |RS           |-3         |topic1       |1.0            |\n",
      "|8                 |[topic2, topic1]|                   |                   |RS           |-4         |topic1       |1.0            |\n",
      "|8                 |[topic2, topic1]|                   |                   |PS           |-1         |topic1       |0.54           |\n",
      "|8                 |[topic2, topic1]|                   |                   |PS           |-2         |topic1       |0.54           |\n",
      "|8                 |[topic2, topic1]|                   |                   |PS           |-3         |topic1       |0.62           |\n",
      "|8                 |[topic2, topic1]|                   |                   |PS           |-4         |topic1       |0.62           |\n",
      "+------------------+----------------+-------------------+-------------------+-------------+-----------+-------------+---------------+\n",
      "\n"
     ]
    },
    {
     "name": "stderr",
     "output_type": "stream",
     "text": [
      "/home/tudny/Documents/UW/MIMUW-master/PDD/PDD-PZ2/venv/lib/python3.11/site-packages/scipy/stats/_axis_nan_policy.py:394: RuntimeWarning: ks_2samp: Exact calculation unsuccessful. Switching to method=asymp.\n",
      "  return hypotest_fun_in(*args, **kwds)\n",
      "                                                                                \r"
     ]
    },
    {
     "name": "stdout",
     "output_type": "stream",
     "text": [
      "-------------------------------------------\n",
      "Batch: 4\n",
      "-------------------------------------------\n",
      "+------------------+----------------+-------------------+-------------------+-------------+-----------+-------------+---------------+\n",
      "|Sample save moment|Tested topics   |KS Test topics (RS)|KS Test topics (PS)|Sampling type|KS test idx|KS test topic|KS test p-value|\n",
      "+------------------+----------------+-------------------+-------------------+-------------+-----------+-------------+---------------+\n",
      "|10                |[topic2, topic1]|9.4e-66            |0.76               |             |           |             |               |\n",
      "|10                |[topic2, topic1]|                   |                   |RS           |-1         |topic2       |1.0            |\n",
      "|10                |[topic2, topic1]|                   |                   |RS           |-2         |topic2       |1.0            |\n",
      "|10                |[topic2, topic1]|                   |                   |RS           |-3         |topic2       |6.0E-4         |\n",
      "|10                |[topic2, topic1]|                   |                   |RS           |-4         |topic2       |6.0E-4         |\n",
      "|10                |[topic2, topic1]|                   |                   |PS           |-1         |topic2       |1.0            |\n",
      "|10                |[topic2, topic1]|                   |                   |PS           |-2         |topic2       |1.0            |\n",
      "|10                |[topic2, topic1]|                   |                   |PS           |-3         |topic2       |0.014          |\n",
      "|10                |[topic2, topic1]|                   |                   |PS           |-4         |topic2       |0.014          |\n",
      "|10                |[topic2, topic1]|9.4e-66            |0.76               |             |           |             |               |\n",
      "|10                |[topic2, topic1]|                   |                   |RS           |-1         |topic1       |1.0            |\n",
      "|10                |[topic2, topic1]|                   |                   |RS           |-2         |topic1       |1.0            |\n",
      "|10                |[topic2, topic1]|                   |                   |RS           |-3         |topic1       |0.99           |\n",
      "|10                |[topic2, topic1]|                   |                   |RS           |-4         |topic1       |0.99           |\n",
      "|10                |[topic2, topic1]|                   |                   |PS           |-1         |topic1       |1.0            |\n",
      "|10                |[topic2, topic1]|                   |                   |PS           |-2         |topic1       |1.0            |\n",
      "|10                |[topic2, topic1]|                   |                   |PS           |-3         |topic1       |0.25           |\n",
      "|10                |[topic2, topic1]|                   |                   |PS           |-4         |topic1       |0.25           |\n",
      "|11                |[topic2, topic1]|9.4e-66            |0.76               |             |           |             |               |\n",
      "|11                |[topic2, topic1]|                   |                   |RS           |-1         |topic2       |1.0            |\n",
      "|11                |[topic2, topic1]|                   |                   |RS           |-2         |topic2       |0.89           |\n",
      "|11                |[topic2, topic1]|                   |                   |RS           |-3         |topic2       |0.89           |\n",
      "|11                |[topic2, topic1]|                   |                   |RS           |-4         |topic2       |4.4E-6         |\n",
      "|11                |[topic2, topic1]|                   |                   |PS           |-1         |topic2       |1.0            |\n",
      "|11                |[topic2, topic1]|                   |                   |PS           |-2         |topic2       |0.94           |\n",
      "|11                |[topic2, topic1]|                   |                   |PS           |-3         |topic2       |0.94           |\n",
      "|11                |[topic2, topic1]|                   |                   |PS           |-4         |topic2       |0.018          |\n",
      "|11                |[topic2, topic1]|9.4e-66            |0.76               |             |           |             |               |\n",
      "|11                |[topic2, topic1]|                   |                   |RS           |-1         |topic1       |1.0            |\n",
      "|11                |[topic2, topic1]|                   |                   |RS           |-2         |topic1       |1.0            |\n",
      "|11                |[topic2, topic1]|                   |                   |RS           |-3         |topic1       |1.0            |\n",
      "|11                |[topic2, topic1]|                   |                   |RS           |-4         |topic1       |1.0            |\n",
      "|11                |[topic2, topic1]|                   |                   |PS           |-1         |topic1       |1.0            |\n",
      "|11                |[topic2, topic1]|                   |                   |PS           |-2         |topic1       |0.61           |\n",
      "|11                |[topic2, topic1]|                   |                   |PS           |-3         |topic1       |0.61           |\n",
      "|11                |[topic2, topic1]|                   |                   |PS           |-4         |topic1       |0.47           |\n",
      "+------------------+----------------+-------------------+-------------------+-------------+-----------+-------------+---------------+\n",
      "\n"
     ]
    },
    {
     "name": "stderr",
     "output_type": "stream",
     "text": [
      "/home/tudny/Documents/UW/MIMUW-master/PDD/PDD-PZ2/venv/lib/python3.11/site-packages/scipy/stats/_axis_nan_policy.py:394: RuntimeWarning: ks_2samp: Exact calculation unsuccessful. Switching to method=asymp.\n",
      "  return hypotest_fun_in(*args, **kwds)\n",
      "/home/tudny/Documents/UW/MIMUW-master/PDD/PDD-PZ2/venv/lib/python3.11/site-packages/scipy/stats/_axis_nan_policy.py:394: RuntimeWarning: ks_2samp: Exact calculation unsuccessful. Switching to method=asymp.\n",
      "  return hypotest_fun_in(*args, **kwds)\n",
      "                                                                                \r"
     ]
    },
    {
     "name": "stdout",
     "output_type": "stream",
     "text": [
      "-------------------------------------------\n",
      "Batch: 5\n",
      "-------------------------------------------\n",
      "+------------------+----------------+-------------------+-------------------+-------------+-----------+-------------+---------------+\n",
      "|Sample save moment|Tested topics   |KS Test topics (RS)|KS Test topics (PS)|Sampling type|KS test idx|KS test topic|KS test p-value|\n",
      "+------------------+----------------+-------------------+-------------------+-------------+-----------+-------------+---------------+\n",
      "|12                |[topic2, topic1]|1.3e-60            |0.76               |             |           |             |               |\n",
      "|12                |[topic2, topic1]|                   |                   |RS           |-1         |topic2       |1.0            |\n",
      "|12                |[topic2, topic1]|                   |                   |RS           |-2         |topic2       |1.0            |\n",
      "|12                |[topic2, topic1]|                   |                   |RS           |-3         |topic2       |0.24           |\n",
      "|12                |[topic2, topic1]|                   |                   |RS           |-4         |topic2       |0.24           |\n",
      "|12                |[topic2, topic1]|                   |                   |PS           |-1         |topic2       |1.0            |\n",
      "|12                |[topic2, topic1]|                   |                   |PS           |-2         |topic2       |1.0            |\n",
      "|12                |[topic2, topic1]|                   |                   |PS           |-3         |topic2       |0.89           |\n",
      "|12                |[topic2, topic1]|                   |                   |PS           |-4         |topic2       |0.89           |\n",
      "|12                |[topic2, topic1]|1.3e-60            |0.76               |             |           |             |               |\n",
      "|12                |[topic2, topic1]|                   |                   |RS           |-1         |topic1       |1.0            |\n",
      "|12                |[topic2, topic1]|                   |                   |RS           |-2         |topic1       |1.0            |\n",
      "|12                |[topic2, topic1]|                   |                   |RS           |-3         |topic1       |1.0            |\n",
      "|12                |[topic2, topic1]|                   |                   |RS           |-4         |topic1       |1.0            |\n",
      "|12                |[topic2, topic1]|                   |                   |PS           |-1         |topic1       |1.0            |\n",
      "|12                |[topic2, topic1]|                   |                   |PS           |-2         |topic1       |1.0            |\n",
      "|12                |[topic2, topic1]|                   |                   |PS           |-3         |topic1       |0.91           |\n",
      "|12                |[topic2, topic1]|                   |                   |PS           |-4         |topic1       |0.91           |\n",
      "|13                |[topic2, topic1]|1.3e-60            |0.76               |             |           |             |               |\n",
      "|13                |[topic2, topic1]|                   |                   |RS           |-1         |topic2       |1.0            |\n",
      "|13                |[topic2, topic1]|                   |                   |RS           |-2         |topic2       |1.0            |\n",
      "|13                |[topic2, topic1]|                   |                   |RS           |-3         |topic2       |1.0            |\n",
      "|13                |[topic2, topic1]|                   |                   |RS           |-4         |topic2       |0.097          |\n",
      "|13                |[topic2, topic1]|                   |                   |PS           |-1         |topic2       |1.0            |\n",
      "|13                |[topic2, topic1]|                   |                   |PS           |-2         |topic2       |0.86           |\n",
      "|13                |[topic2, topic1]|                   |                   |PS           |-3         |topic2       |0.86           |\n",
      "|13                |[topic2, topic1]|                   |                   |PS           |-4         |topic2       |0.98           |\n",
      "|13                |[topic2, topic1]|1.3e-60            |0.76               |             |           |             |               |\n",
      "|13                |[topic2, topic1]|                   |                   |RS           |-1         |topic1       |1.0            |\n",
      "|13                |[topic2, topic1]|                   |                   |RS           |-2         |topic1       |1.0            |\n",
      "|13                |[topic2, topic1]|                   |                   |RS           |-3         |topic1       |1.0            |\n",
      "|13                |[topic2, topic1]|                   |                   |RS           |-4         |topic1       |1.0            |\n",
      "|13                |[topic2, topic1]|                   |                   |PS           |-1         |topic1       |1.0            |\n",
      "|13                |[topic2, topic1]|                   |                   |PS           |-2         |topic1       |0.99           |\n",
      "|13                |[topic2, topic1]|                   |                   |PS           |-3         |topic1       |0.99           |\n",
      "|13                |[topic2, topic1]|                   |                   |PS           |-4         |topic1       |0.83           |\n",
      "+------------------+----------------+-------------------+-------------------+-------------+-----------+-------------+---------------+\n",
      "\n"
     ]
    },
    {
     "name": "stderr",
     "output_type": "stream",
     "text": [
      "/home/tudny/Documents/UW/MIMUW-master/PDD/PDD-PZ2/venv/lib/python3.11/site-packages/scipy/stats/_axis_nan_policy.py:394: RuntimeWarning: ks_2samp: Exact calculation unsuccessful. Switching to method=asymp.\n",
      "  return hypotest_fun_in(*args, **kwds)\n",
      "                                                                                \r"
     ]
    },
    {
     "name": "stdout",
     "output_type": "stream",
     "text": [
      "-------------------------------------------\n",
      "Batch: 6\n",
      "-------------------------------------------\n",
      "+------------------+----------------+-------------------+-------------------+-------------+-----------+-------------+---------------+\n",
      "|Sample save moment|Tested topics   |KS Test topics (RS)|KS Test topics (PS)|Sampling type|KS test idx|KS test topic|KS test p-value|\n",
      "+------------------+----------------+-------------------+-------------------+-------------+-----------+-------------+---------------+\n",
      "|14                |[topic2, topic1]|2.7e-58            |0.13               |             |           |             |               |\n",
      "|14                |[topic2, topic1]|                   |                   |RS           |-1         |topic2       |1.0            |\n",
      "|14                |[topic2, topic1]|                   |                   |RS           |-2         |topic2       |1.0            |\n",
      "|14                |[topic2, topic1]|                   |                   |RS           |-3         |topic2       |0.91           |\n",
      "|14                |[topic2, topic1]|                   |                   |RS           |-4         |topic2       |0.91           |\n",
      "|14                |[topic2, topic1]|                   |                   |PS           |-1         |topic2       |0.91           |\n",
      "|14                |[topic2, topic1]|                   |                   |PS           |-2         |topic2       |0.91           |\n",
      "|14                |[topic2, topic1]|                   |                   |PS           |-3         |topic2       |0.94           |\n",
      "|14                |[topic2, topic1]|                   |                   |PS           |-4         |topic2       |0.94           |\n",
      "|14                |[topic2, topic1]|2.7e-58            |0.13               |             |           |             |               |\n",
      "|14                |[topic2, topic1]|                   |                   |RS           |-1         |topic1       |1.0            |\n",
      "|14                |[topic2, topic1]|                   |                   |RS           |-2         |topic1       |1.0            |\n",
      "|14                |[topic2, topic1]|                   |                   |RS           |-3         |topic1       |1.0            |\n",
      "|14                |[topic2, topic1]|                   |                   |RS           |-4         |topic1       |1.0            |\n",
      "|14                |[topic2, topic1]|                   |                   |PS           |-1         |topic1       |1.0            |\n",
      "|14                |[topic2, topic1]|                   |                   |PS           |-2         |topic1       |1.0            |\n",
      "|14                |[topic2, topic1]|                   |                   |PS           |-3         |topic1       |0.5            |\n",
      "|14                |[topic2, topic1]|                   |                   |PS           |-4         |topic1       |0.5            |\n",
      "|15                |[topic2, topic1]|2.7e-58            |0.13               |             |           |             |               |\n",
      "|15                |[topic2, topic1]|                   |                   |RS           |-1         |topic2       |1.0            |\n",
      "|15                |[topic2, topic1]|                   |                   |RS           |-2         |topic2       |1.0            |\n",
      "|15                |[topic2, topic1]|                   |                   |RS           |-3         |topic2       |1.0            |\n",
      "|15                |[topic2, topic1]|                   |                   |RS           |-4         |topic2       |0.97           |\n",
      "|15                |[topic2, topic1]|                   |                   |PS           |-1         |topic2       |1.0            |\n",
      "|15                |[topic2, topic1]|                   |                   |PS           |-2         |topic2       |0.83           |\n",
      "|15                |[topic2, topic1]|                   |                   |PS           |-3         |topic2       |0.83           |\n",
      "|15                |[topic2, topic1]|                   |                   |PS           |-4         |topic2       |0.94           |\n",
      "|15                |[topic2, topic1]|2.7e-58            |0.13               |             |           |             |               |\n",
      "|15                |[topic2, topic1]|                   |                   |RS           |-1         |topic1       |1.0            |\n",
      "|15                |[topic2, topic1]|                   |                   |RS           |-2         |topic1       |1.0            |\n",
      "|15                |[topic2, topic1]|                   |                   |RS           |-3         |topic1       |1.0            |\n",
      "|15                |[topic2, topic1]|                   |                   |RS           |-4         |topic1       |1.0            |\n",
      "|15                |[topic2, topic1]|                   |                   |PS           |-1         |topic1       |1.0            |\n",
      "|15                |[topic2, topic1]|                   |                   |PS           |-2         |topic1       |0.76           |\n",
      "|15                |[topic2, topic1]|                   |                   |PS           |-3         |topic1       |0.76           |\n",
      "|15                |[topic2, topic1]|                   |                   |PS           |-4         |topic1       |0.65           |\n",
      "+------------------+----------------+-------------------+-------------------+-------------+-----------+-------------+---------------+\n",
      "\n"
     ]
    },
    {
     "name": "stderr",
     "output_type": "stream",
     "text": [
      "/home/tudny/Documents/UW/MIMUW-master/PDD/PDD-PZ2/venv/lib/python3.11/site-packages/scipy/stats/_axis_nan_policy.py:394: RuntimeWarning: ks_2samp: Exact calculation unsuccessful. Switching to method=asymp.\n",
      "  return hypotest_fun_in(*args, **kwds)\n",
      "                                                                                \r"
     ]
    },
    {
     "name": "stdout",
     "output_type": "stream",
     "text": [
      "-------------------------------------------\n",
      "Batch: 7\n",
      "-------------------------------------------\n",
      "+------------------+----------------+-------------------+-------------------+-------------+-----------+-------------+---------------+\n",
      "|Sample save moment|Tested topics   |KS Test topics (RS)|KS Test topics (PS)|Sampling type|KS test idx|KS test topic|KS test p-value|\n",
      "+------------------+----------------+-------------------+-------------------+-------------+-----------+-------------+---------------+\n",
      "|17                |[topic2, topic1]|2.2e-45            |0.65               |             |           |             |               |\n",
      "|17                |[topic2, topic1]|                   |                   |RS           |-1         |topic2       |1.0            |\n",
      "|17                |[topic2, topic1]|                   |                   |RS           |-2         |topic2       |0.69           |\n",
      "|17                |[topic2, topic1]|                   |                   |RS           |-3         |topic2       |0.69           |\n",
      "|17                |[topic2, topic1]|                   |                   |RS           |-4         |topic2       |0.4            |\n",
      "|17                |[topic2, topic1]|                   |                   |PS           |-1         |topic2       |1.0            |\n",
      "|17                |[topic2, topic1]|                   |                   |PS           |-2         |topic2       |0.54           |\n",
      "|17                |[topic2, topic1]|                   |                   |PS           |-3         |topic2       |0.54           |\n",
      "|17                |[topic2, topic1]|                   |                   |PS           |-4         |topic2       |0.16           |\n",
      "|17                |[topic2, topic1]|2.2e-45            |0.65               |             |           |             |               |\n",
      "|17                |[topic2, topic1]|                   |                   |RS           |-1         |topic1       |1.0            |\n",
      "|17                |[topic2, topic1]|                   |                   |RS           |-2         |topic1       |1.0            |\n",
      "|17                |[topic2, topic1]|                   |                   |RS           |-3         |topic1       |1.0            |\n",
      "|17                |[topic2, topic1]|                   |                   |RS           |-4         |topic1       |0.97           |\n",
      "|17                |[topic2, topic1]|                   |                   |PS           |-1         |topic1       |1.0            |\n",
      "|17                |[topic2, topic1]|                   |                   |PS           |-2         |topic1       |0.5            |\n",
      "|17                |[topic2, topic1]|                   |                   |PS           |-3         |topic1       |0.5            |\n",
      "|17                |[topic2, topic1]|                   |                   |PS           |-4         |topic1       |0.86           |\n",
      "|16                |[topic2, topic1]|2.2e-45            |0.65               |             |           |             |               |\n",
      "|16                |[topic2, topic1]|                   |                   |RS           |-1         |topic2       |1.0            |\n",
      "|16                |[topic2, topic1]|                   |                   |RS           |-2         |topic2       |1.0            |\n",
      "|16                |[topic2, topic1]|                   |                   |RS           |-3         |topic2       |0.99           |\n",
      "|16                |[topic2, topic1]|                   |                   |RS           |-4         |topic2       |0.99           |\n",
      "|16                |[topic2, topic1]|                   |                   |PS           |-1         |topic2       |0.57           |\n",
      "|16                |[topic2, topic1]|                   |                   |PS           |-2         |topic2       |0.57           |\n",
      "|16                |[topic2, topic1]|                   |                   |PS           |-3         |topic2       |0.062          |\n",
      "|16                |[topic2, topic1]|                   |                   |PS           |-4         |topic2       |0.062          |\n",
      "|16                |[topic2, topic1]|2.2e-45            |0.65               |             |           |             |               |\n",
      "|16                |[topic2, topic1]|                   |                   |RS           |-1         |topic1       |1.0            |\n",
      "|16                |[topic2, topic1]|                   |                   |RS           |-2         |topic1       |1.0            |\n",
      "|16                |[topic2, topic1]|                   |                   |RS           |-3         |topic1       |1.0            |\n",
      "|16                |[topic2, topic1]|                   |                   |RS           |-4         |topic1       |1.0            |\n",
      "|16                |[topic2, topic1]|                   |                   |PS           |-1         |topic1       |1.0            |\n",
      "|16                |[topic2, topic1]|                   |                   |PS           |-2         |topic1       |1.0            |\n",
      "|16                |[topic2, topic1]|                   |                   |PS           |-3         |topic1       |0.57           |\n",
      "|16                |[topic2, topic1]|                   |                   |PS           |-4         |topic1       |0.57           |\n",
      "+------------------+----------------+-------------------+-------------------+-------------+-----------+-------------+---------------+\n",
      "\n"
     ]
    },
    {
     "name": "stderr",
     "output_type": "stream",
     "text": [
      "/home/tudny/Documents/UW/MIMUW-master/PDD/PDD-PZ2/venv/lib/python3.11/site-packages/scipy/stats/_axis_nan_policy.py:394: RuntimeWarning: ks_2samp: Exact calculation unsuccessful. Switching to method=asymp.\n",
      "  return hypotest_fun_in(*args, **kwds)\n",
      "                                                                                \r"
     ]
    },
    {
     "name": "stdout",
     "output_type": "stream",
     "text": [
      "-------------------------------------------\n",
      "Batch: 8\n",
      "-------------------------------------------\n",
      "+------------------+----------------+-------------------+-------------------+-------------+-----------+-------------+---------------+\n",
      "|Sample save moment|Tested topics   |KS Test topics (RS)|KS Test topics (PS)|Sampling type|KS test idx|KS test topic|KS test p-value|\n",
      "+------------------+----------------+-------------------+-------------------+-------------+-----------+-------------+---------------+\n",
      "|19                |[topic2, topic1]|2.8e-42            |0.54               |             |           |             |               |\n",
      "|19                |[topic2, topic1]|                   |                   |RS           |-1         |topic2       |1.0            |\n",
      "|19                |[topic2, topic1]|                   |                   |RS           |-2         |topic2       |1.0            |\n",
      "|19                |[topic2, topic1]|                   |                   |RS           |-3         |topic2       |1.0            |\n",
      "|19                |[topic2, topic1]|                   |                   |RS           |-4         |topic2       |0.15           |\n",
      "|19                |[topic2, topic1]|                   |                   |PS           |-1         |topic2       |1.0            |\n",
      "|19                |[topic2, topic1]|                   |                   |PS           |-2         |topic2       |0.79           |\n",
      "|19                |[topic2, topic1]|                   |                   |PS           |-3         |topic2       |0.79           |\n",
      "|19                |[topic2, topic1]|                   |                   |PS           |-4         |topic2       |0.2            |\n",
      "|19                |[topic2, topic1]|2.8e-42            |0.54               |             |           |             |               |\n",
      "|19                |[topic2, topic1]|                   |                   |RS           |-1         |topic1       |1.0            |\n",
      "|19                |[topic2, topic1]|                   |                   |RS           |-2         |topic1       |1.0            |\n",
      "|19                |[topic2, topic1]|                   |                   |RS           |-3         |topic1       |1.0            |\n",
      "|19                |[topic2, topic1]|                   |                   |RS           |-4         |topic1       |1.0            |\n",
      "|19                |[topic2, topic1]|                   |                   |PS           |-1         |topic1       |1.0            |\n",
      "|19                |[topic2, topic1]|                   |                   |PS           |-2         |topic1       |0.76           |\n",
      "|19                |[topic2, topic1]|                   |                   |PS           |-3         |topic1       |0.76           |\n",
      "|19                |[topic2, topic1]|                   |                   |PS           |-4         |topic1       |0.69           |\n",
      "|18                |[topic2, topic1]|2.8e-42            |0.54               |             |           |             |               |\n",
      "|18                |[topic2, topic1]|                   |                   |RS           |-1         |topic2       |1.0            |\n",
      "|18                |[topic2, topic1]|                   |                   |RS           |-2         |topic2       |1.0            |\n",
      "|18                |[topic2, topic1]|                   |                   |RS           |-3         |topic2       |0.29           |\n",
      "|18                |[topic2, topic1]|                   |                   |RS           |-4         |topic2       |0.29           |\n",
      "|18                |[topic2, topic1]|                   |                   |PS           |-1         |topic2       |0.98           |\n",
      "|18                |[topic2, topic1]|                   |                   |PS           |-2         |topic2       |0.98           |\n",
      "|18                |[topic2, topic1]|                   |                   |PS           |-3         |topic2       |0.4            |\n",
      "|18                |[topic2, topic1]|                   |                   |PS           |-4         |topic2       |0.4            |\n",
      "|18                |[topic2, topic1]|2.8e-42            |0.54               |             |           |             |               |\n",
      "|18                |[topic2, topic1]|                   |                   |RS           |-1         |topic1       |1.0            |\n",
      "|18                |[topic2, topic1]|                   |                   |RS           |-2         |topic1       |1.0            |\n",
      "|18                |[topic2, topic1]|                   |                   |RS           |-3         |topic1       |1.0            |\n",
      "|18                |[topic2, topic1]|                   |                   |RS           |-4         |topic1       |1.0            |\n",
      "|18                |[topic2, topic1]|                   |                   |PS           |-1         |topic1       |1.0            |\n",
      "|18                |[topic2, topic1]|                   |                   |PS           |-2         |topic1       |1.0            |\n",
      "|18                |[topic2, topic1]|                   |                   |PS           |-3         |topic1       |0.087          |\n",
      "|18                |[topic2, topic1]|                   |                   |PS           |-4         |topic1       |0.087          |\n",
      "+------------------+----------------+-------------------+-------------------+-------------+-----------+-------------+---------------+\n",
      "\n"
     ]
    },
    {
     "name": "stderr",
     "output_type": "stream",
     "text": [
      "/home/tudny/Documents/UW/MIMUW-master/PDD/PDD-PZ2/venv/lib/python3.11/site-packages/scipy/stats/_axis_nan_policy.py:394: RuntimeWarning: ks_2samp: Exact calculation unsuccessful. Switching to method=asymp.\n",
      "  return hypotest_fun_in(*args, **kwds)\n",
      "                                                                                \r"
     ]
    },
    {
     "name": "stdout",
     "output_type": "stream",
     "text": [
      "-------------------------------------------\n",
      "Batch: 9\n",
      "-------------------------------------------\n",
      "+------------------+----------------+-------------------+-------------------+-------------+-----------+-------------+---------------+\n",
      "|Sample save moment|Tested topics   |KS Test topics (RS)|KS Test topics (PS)|Sampling type|KS test idx|KS test topic|KS test p-value|\n",
      "+------------------+----------------+-------------------+-------------------+-------------+-----------+-------------+---------------+\n",
      "|21                |[topic2, topic1]|3.3e-37            |0.11               |             |           |             |               |\n",
      "|21                |[topic2, topic1]|                   |                   |RS           |-1         |topic2       |1.0            |\n",
      "|21                |[topic2, topic1]|                   |                   |RS           |-2         |topic2       |0.83           |\n",
      "|21                |[topic2, topic1]|                   |                   |RS           |-3         |topic2       |0.83           |\n",
      "|21                |[topic2, topic1]|                   |                   |RS           |-4         |topic2       |0.43           |\n",
      "|21                |[topic2, topic1]|                   |                   |PS           |-1         |topic2       |1.0            |\n",
      "|21                |[topic2, topic1]|                   |                   |PS           |-2         |topic2       |0.97           |\n",
      "|21                |[topic2, topic1]|                   |                   |PS           |-3         |topic2       |0.97           |\n",
      "|21                |[topic2, topic1]|                   |                   |PS           |-4         |topic2       |0.43           |\n",
      "|21                |[topic2, topic1]|3.3e-37            |0.11               |             |           |             |               |\n",
      "|21                |[topic2, topic1]|                   |                   |RS           |-1         |topic1       |1.0            |\n",
      "|21                |[topic2, topic1]|                   |                   |RS           |-2         |topic1       |1.0            |\n",
      "|21                |[topic2, topic1]|                   |                   |RS           |-3         |topic1       |1.0            |\n",
      "|21                |[topic2, topic1]|                   |                   |RS           |-4         |topic1       |1.0            |\n",
      "|21                |[topic2, topic1]|                   |                   |PS           |-1         |topic1       |1.0            |\n",
      "|21                |[topic2, topic1]|                   |                   |PS           |-2         |topic1       |0.5            |\n",
      "|21                |[topic2, topic1]|                   |                   |PS           |-3         |topic1       |0.5            |\n",
      "|21                |[topic2, topic1]|                   |                   |PS           |-4         |topic1       |0.98           |\n",
      "|20                |[topic2, topic1]|3.3e-37            |0.11               |             |           |             |               |\n",
      "|20                |[topic2, topic1]|                   |                   |RS           |-1         |topic2       |1.0            |\n",
      "|20                |[topic2, topic1]|                   |                   |RS           |-2         |topic2       |1.0            |\n",
      "|20                |[topic2, topic1]|                   |                   |RS           |-3         |topic2       |0.79           |\n",
      "|20                |[topic2, topic1]|                   |                   |RS           |-4         |topic2       |0.79           |\n",
      "|20                |[topic2, topic1]|                   |                   |PS           |-1         |topic2       |0.98           |\n",
      "|20                |[topic2, topic1]|                   |                   |PS           |-2         |topic2       |0.98           |\n",
      "|20                |[topic2, topic1]|                   |                   |PS           |-3         |topic2       |0.61           |\n",
      "|20                |[topic2, topic1]|                   |                   |PS           |-4         |topic2       |0.61           |\n",
      "|20                |[topic2, topic1]|3.3e-37            |0.11               |             |           |             |               |\n",
      "|20                |[topic2, topic1]|                   |                   |RS           |-1         |topic1       |1.0            |\n",
      "|20                |[topic2, topic1]|                   |                   |RS           |-2         |topic1       |1.0            |\n",
      "|20                |[topic2, topic1]|                   |                   |RS           |-3         |topic1       |1.0            |\n",
      "|20                |[topic2, topic1]|                   |                   |RS           |-4         |topic1       |1.0            |\n",
      "|20                |[topic2, topic1]|                   |                   |PS           |-1         |topic1       |1.0            |\n",
      "|20                |[topic2, topic1]|                   |                   |PS           |-2         |topic1       |1.0            |\n",
      "|20                |[topic2, topic1]|                   |                   |PS           |-3         |topic1       |0.69           |\n",
      "|20                |[topic2, topic1]|                   |                   |PS           |-4         |topic1       |0.69           |\n",
      "+------------------+----------------+-------------------+-------------------+-------------+-----------+-------------+---------------+\n",
      "\n"
     ]
    },
    {
     "name": "stderr",
     "output_type": "stream",
     "text": [
      "ERROR:root:KeyboardInterrupt while sending command.             (49 + 12) / 200]\n",
      "Traceback (most recent call last):\n",
      "  File \"/home/tudny/Documents/UW/MIMUW-master/PDD/PDD-PZ2/venv/lib/python3.11/site-packages/py4j/java_gateway.py\", line 1038, in send_command\n",
      "    response = connection.send_command(command)\n",
      "               ^^^^^^^^^^^^^^^^^^^^^^^^^^^^^^^^\n",
      "  File \"/home/tudny/Documents/UW/MIMUW-master/PDD/PDD-PZ2/venv/lib/python3.11/site-packages/py4j/clientserver.py\", line 511, in send_command\n",
      "    answer = smart_decode(self.stream.readline()[:-1])\n",
      "                          ^^^^^^^^^^^^^^^^^^^^^^\n",
      "  File \"/usr/lib/python3.11/socket.py\", line 706, in readinto\n",
      "    return self._sock.recv_into(b)\n",
      "           ^^^^^^^^^^^^^^^^^^^^^^^\n",
      "KeyboardInterrupt\n",
      "[Stage 31:================>                                     (61 + 12) / 200]\r"
     ]
    },
    {
     "ename": "KeyboardInterrupt",
     "evalue": "",
     "output_type": "error",
     "traceback": [
      "\u001B[0;31m---------------------------------------------------------------------------\u001B[0m",
      "\u001B[0;31mKeyboardInterrupt\u001B[0m                         Traceback (most recent call last)",
      "Cell \u001B[0;32mIn[16], line 1\u001B[0m\n\u001B[0;32m----> 1\u001B[0m \u001B[43mquery\u001B[49m\u001B[38;5;241;43m.\u001B[39;49m\u001B[43mawaitTermination\u001B[49m\u001B[43m(\u001B[49m\u001B[43m)\u001B[49m\n\u001B[1;32m      2\u001B[0m query\u001B[38;5;241m.\u001B[39mstop()\n",
      "File \u001B[0;32m~/Documents/UW/MIMUW-master/PDD/PDD-PZ2/venv/lib/python3.11/site-packages/pyspark/sql/streaming/query.py:221\u001B[0m, in \u001B[0;36mStreamingQuery.awaitTermination\u001B[0;34m(self, timeout)\u001B[0m\n\u001B[1;32m    219\u001B[0m     \u001B[38;5;28;01mreturn\u001B[39;00m \u001B[38;5;28mself\u001B[39m\u001B[38;5;241m.\u001B[39m_jsq\u001B[38;5;241m.\u001B[39mawaitTermination(\u001B[38;5;28mint\u001B[39m(timeout \u001B[38;5;241m*\u001B[39m \u001B[38;5;241m1000\u001B[39m))\n\u001B[1;32m    220\u001B[0m \u001B[38;5;28;01melse\u001B[39;00m:\n\u001B[0;32m--> 221\u001B[0m     \u001B[38;5;28;01mreturn\u001B[39;00m \u001B[38;5;28;43mself\u001B[39;49m\u001B[38;5;241;43m.\u001B[39;49m\u001B[43m_jsq\u001B[49m\u001B[38;5;241;43m.\u001B[39;49m\u001B[43mawaitTermination\u001B[49m\u001B[43m(\u001B[49m\u001B[43m)\u001B[49m\n",
      "File \u001B[0;32m~/Documents/UW/MIMUW-master/PDD/PDD-PZ2/venv/lib/python3.11/site-packages/py4j/java_gateway.py:1321\u001B[0m, in \u001B[0;36mJavaMember.__call__\u001B[0;34m(self, *args)\u001B[0m\n\u001B[1;32m   1314\u001B[0m args_command, temp_args \u001B[38;5;241m=\u001B[39m \u001B[38;5;28mself\u001B[39m\u001B[38;5;241m.\u001B[39m_build_args(\u001B[38;5;241m*\u001B[39margs)\n\u001B[1;32m   1316\u001B[0m command \u001B[38;5;241m=\u001B[39m proto\u001B[38;5;241m.\u001B[39mCALL_COMMAND_NAME \u001B[38;5;241m+\u001B[39m\\\n\u001B[1;32m   1317\u001B[0m     \u001B[38;5;28mself\u001B[39m\u001B[38;5;241m.\u001B[39mcommand_header \u001B[38;5;241m+\u001B[39m\\\n\u001B[1;32m   1318\u001B[0m     args_command \u001B[38;5;241m+\u001B[39m\\\n\u001B[1;32m   1319\u001B[0m     proto\u001B[38;5;241m.\u001B[39mEND_COMMAND_PART\n\u001B[0;32m-> 1321\u001B[0m answer \u001B[38;5;241m=\u001B[39m \u001B[38;5;28;43mself\u001B[39;49m\u001B[38;5;241;43m.\u001B[39;49m\u001B[43mgateway_client\u001B[49m\u001B[38;5;241;43m.\u001B[39;49m\u001B[43msend_command\u001B[49m\u001B[43m(\u001B[49m\u001B[43mcommand\u001B[49m\u001B[43m)\u001B[49m\n\u001B[1;32m   1322\u001B[0m return_value \u001B[38;5;241m=\u001B[39m get_return_value(\n\u001B[1;32m   1323\u001B[0m     answer, \u001B[38;5;28mself\u001B[39m\u001B[38;5;241m.\u001B[39mgateway_client, \u001B[38;5;28mself\u001B[39m\u001B[38;5;241m.\u001B[39mtarget_id, \u001B[38;5;28mself\u001B[39m\u001B[38;5;241m.\u001B[39mname)\n\u001B[1;32m   1325\u001B[0m \u001B[38;5;28;01mfor\u001B[39;00m temp_arg \u001B[38;5;129;01min\u001B[39;00m temp_args:\n",
      "File \u001B[0;32m~/Documents/UW/MIMUW-master/PDD/PDD-PZ2/venv/lib/python3.11/site-packages/py4j/java_gateway.py:1038\u001B[0m, in \u001B[0;36mGatewayClient.send_command\u001B[0;34m(self, command, retry, binary)\u001B[0m\n\u001B[1;32m   1036\u001B[0m connection \u001B[38;5;241m=\u001B[39m \u001B[38;5;28mself\u001B[39m\u001B[38;5;241m.\u001B[39m_get_connection()\n\u001B[1;32m   1037\u001B[0m \u001B[38;5;28;01mtry\u001B[39;00m:\n\u001B[0;32m-> 1038\u001B[0m     response \u001B[38;5;241m=\u001B[39m \u001B[43mconnection\u001B[49m\u001B[38;5;241;43m.\u001B[39;49m\u001B[43msend_command\u001B[49m\u001B[43m(\u001B[49m\u001B[43mcommand\u001B[49m\u001B[43m)\u001B[49m\n\u001B[1;32m   1039\u001B[0m     \u001B[38;5;28;01mif\u001B[39;00m binary:\n\u001B[1;32m   1040\u001B[0m         \u001B[38;5;28;01mreturn\u001B[39;00m response, \u001B[38;5;28mself\u001B[39m\u001B[38;5;241m.\u001B[39m_create_connection_guard(connection)\n",
      "File \u001B[0;32m~/Documents/UW/MIMUW-master/PDD/PDD-PZ2/venv/lib/python3.11/site-packages/py4j/clientserver.py:511\u001B[0m, in \u001B[0;36mClientServerConnection.send_command\u001B[0;34m(self, command)\u001B[0m\n\u001B[1;32m    509\u001B[0m \u001B[38;5;28;01mtry\u001B[39;00m:\n\u001B[1;32m    510\u001B[0m     \u001B[38;5;28;01mwhile\u001B[39;00m \u001B[38;5;28;01mTrue\u001B[39;00m:\n\u001B[0;32m--> 511\u001B[0m         answer \u001B[38;5;241m=\u001B[39m smart_decode(\u001B[38;5;28mself\u001B[39m\u001B[38;5;241m.\u001B[39mstream\u001B[38;5;241m.\u001B[39mreadline()[:\u001B[38;5;241m-\u001B[39m\u001B[38;5;241m1\u001B[39m])\n\u001B[1;32m    512\u001B[0m         logger\u001B[38;5;241m.\u001B[39mdebug(\u001B[38;5;124m\"\u001B[39m\u001B[38;5;124mAnswer received: \u001B[39m\u001B[38;5;132;01m{0}\u001B[39;00m\u001B[38;5;124m\"\u001B[39m\u001B[38;5;241m.\u001B[39mformat(answer))\n\u001B[1;32m    513\u001B[0m         \u001B[38;5;66;03m# Happens when a the other end is dead. There might be an empty\u001B[39;00m\n\u001B[1;32m    514\u001B[0m         \u001B[38;5;66;03m# answer before the socket raises an error.\u001B[39;00m\n",
      "File \u001B[0;32m/usr/lib/python3.11/socket.py:706\u001B[0m, in \u001B[0;36mSocketIO.readinto\u001B[0;34m(self, b)\u001B[0m\n\u001B[1;32m    704\u001B[0m \u001B[38;5;28;01mwhile\u001B[39;00m \u001B[38;5;28;01mTrue\u001B[39;00m:\n\u001B[1;32m    705\u001B[0m     \u001B[38;5;28;01mtry\u001B[39;00m:\n\u001B[0;32m--> 706\u001B[0m         \u001B[38;5;28;01mreturn\u001B[39;00m \u001B[38;5;28;43mself\u001B[39;49m\u001B[38;5;241;43m.\u001B[39;49m\u001B[43m_sock\u001B[49m\u001B[38;5;241;43m.\u001B[39;49m\u001B[43mrecv_into\u001B[49m\u001B[43m(\u001B[49m\u001B[43mb\u001B[49m\u001B[43m)\u001B[49m\n\u001B[1;32m    707\u001B[0m     \u001B[38;5;28;01mexcept\u001B[39;00m timeout:\n\u001B[1;32m    708\u001B[0m         \u001B[38;5;28mself\u001B[39m\u001B[38;5;241m.\u001B[39m_timeout_occurred \u001B[38;5;241m=\u001B[39m \u001B[38;5;28;01mTrue\u001B[39;00m\n",
      "\u001B[0;31mKeyboardInterrupt\u001B[0m: "
     ]
    }
   ],
   "execution_count": 16
  },
  {
   "cell_type": "code",
   "id": "a0b78166315e7597",
   "metadata": {},
   "source": [],
   "outputs": [],
   "execution_count": null
  }
 ],
 "metadata": {
  "kernelspec": {
   "display_name": "Python 3",
   "language": "python",
   "name": "python3"
  },
  "language_info": {
   "codemirror_mode": {
    "name": "ipython",
    "version": 3
   },
   "file_extension": ".py",
   "mimetype": "text/x-python",
   "name": "python",
   "nbconvert_exporter": "python",
   "pygments_lexer": "ipython3",
   "version": "3.11.9"
  }
 },
 "nbformat": 4,
 "nbformat_minor": 5
}
