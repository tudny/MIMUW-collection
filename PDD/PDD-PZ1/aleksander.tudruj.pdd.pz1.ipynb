{
 "cells": [
  {
   "cell_type": "code",
   "id": "initial_id",
   "metadata": {
    "collapsed": true,
    "ExecuteTime": {
     "end_time": "2024-05-14T20:49:36.083335Z",
     "start_time": "2024-05-14T20:49:32.030290Z"
    },
    "id": "initial_id"
   },
   "source": [
    "# !pip install --upgrade pip --quiet\n",
    "# !pip install pyspark --quiet\n",
    "# !pip install -U -q PyDrive --quiet\n",
    "# !pip install numpy pandas --quiet"
   ],
   "outputs": [],
   "execution_count": 1
  },
  {
   "cell_type": "code",
   "id": "0b6baae0",
   "metadata": {
    "ExecuteTime": {
     "end_time": "2024-05-14T20:49:36.086659Z",
     "start_time": "2024-05-14T20:49:36.084607Z"
    },
    "id": "0b6baae0"
   },
   "source": [
    "# import os\n",
    "\n",
    "# os.environ[\"JAVA_HOME\"] = \"/usr/lib/jvm/java-11-openjdk-amd64/\""
   ],
   "outputs": [],
   "execution_count": 2
  },
  {
   "metadata": {
    "ExecuteTime": {
     "end_time": "2024-05-14T20:49:36.098149Z",
     "start_time": "2024-05-14T20:49:36.087305Z"
    },
    "colab": {
     "base_uri": "https://localhost:8080/"
    },
    "id": "191ff968738b3c9e",
    "outputId": "669d4f75-aa5c-4f98-f5cb-b1fd03b1aafb"
   },
   "cell_type": "code",
   "source": [
    "import platform\n",
    "\n",
    "MASTER, FILE_PATH, SPARK_CONFIG = (\n",
    "    (\"spark://master:7077\", \"hdfs://master:9000/user/tudny/\", {})\n",
    "    if platform.node().startswith(\"driver\")\n",
    "    else (\n",
    "        \"local[*]\",\n",
    "        \"\",\n",
    "        {\"spark.driver.memory\": \"16g\", \"spark.executor.memory\": \"16g\"},\n",
    "    )\n",
    ")\n",
    "print(MASTER, FILE_PATH, SPARK_CONFIG)"
   ],
   "id": "191ff968738b3c9e",
   "outputs": [
    {
     "output_type": "stream",
     "name": "stdout",
     "text": [
      "spark://master:7077 hdfs://master:9000/user/tudny/ {}\n"
     ]
    }
   ],
   "execution_count": 3
  },
  {
   "metadata": {
    "ExecuteTime": {
     "end_time": "2024-05-14T20:49:36.104425Z",
     "start_time": "2024-05-14T20:49:36.099229Z"
    },
    "colab": {
     "base_uri": "https://localhost:8080/"
    },
    "id": "9228cd9a7827338d",
    "outputId": "35218ca4-0749-4982-9e0f-dc9c863d7e0e"
   },
   "cell_type": "code",
   "source": [
    "from pyspark.sql import SparkSession\n",
    "from pyspark.sql import functions as F\n",
    "from pyspark.sql.types import (\n",
    "    ArrayType,\n",
    "    IntegerType,\n",
    "    StructType,\n",
    "    StructField,\n",
    ")\n",
    "\n",
    "spark = (\n",
    "    SparkSession.builder.master(MASTER)\n",
    "    .appName(\"PDD PZ1\")\n",
    "    .config(\"spark.ui.port\", \"4050\")\n",
    "    .config(map=SPARK_CONFIG)\n",
    "    .getOrCreate()\n",
    ")\n",
    "\n",
    "sc = spark.sparkContext"
   ],
   "id": "9228cd9a7827338d",
   "outputs": [
    {
     "output_type": "stream",
     "name": "stderr",
     "text": [
      "Setting default log level to \"WARN\".\n",
      "To adjust logging level use sc.setLogLevel(newLevel). For SparkR, use setLogLevel(newLevel).\n",
      "24/05/14 21:15:21 WARN NativeCodeLoader: Unable to load native-hadoop library for your platform... using builtin-java classes where applicable\n"
     ]
    }
   ],
   "execution_count": 4
  },
  {
   "metadata": {
    "ExecuteTime": {
     "end_time": "2024-05-14T20:49:36.107046Z",
     "start_time": "2024-05-14T20:49:36.105092Z"
    },
    "id": "4e8455acbb76f153"
   },
   "cell_type": "code",
   "source": [
    "from datetime import datetime\n",
    "\n",
    "start_time = datetime.now()"
   ],
   "id": "4e8455acbb76f153",
   "outputs": [],
   "execution_count": 5
  },
  {
   "metadata": {
    "ExecuteTime": {
     "end_time": "2024-05-14T20:49:49.856312Z",
     "start_time": "2024-05-14T20:49:36.107811Z"
    },
    "colab": {
     "base_uri": "https://localhost:8080/"
    },
    "id": "d35752ab59f82ebd",
    "outputId": "b6156c19-19c1-4433-994e-ad6288f483a7"
   },
   "cell_type": "code",
   "source": [
    "fasta = spark.read.json(f\"{FILE_PATH}data/fasta/*.json\")"
   ],
   "id": "d35752ab59f82ebd",
   "outputs": [
    {
     "output_type": "stream",
     "name": "stderr",
     "text": []
    }
   ],
   "execution_count": 6
  },
  {
   "metadata": {
    "ExecuteTime": {
     "end_time": "2024-05-14T20:49:49.858743Z",
     "start_time": "2024-05-14T20:49:49.857006Z"
    },
    "id": "5b22da9a1e3c9074"
   },
   "cell_type": "code",
   "source": [
    "SHINGLES = 5\n",
    "BANDS = 20\n",
    "ROWS = 5"
   ],
   "id": "5b22da9a1e3c9074",
   "outputs": [],
   "execution_count": 7
  },
  {
   "metadata": {
    "ExecuteTime": {
     "end_time": "2024-05-14T20:49:49.874523Z",
     "start_time": "2024-05-14T20:49:49.859487Z"
    },
    "id": "764b928d33103cc7"
   },
   "cell_type": "code",
   "source": [
    "import numpy as np\n",
    "\n",
    "NO_HASH_FUNCTIONS = BANDS * ROWS\n",
    "BIG_ENOUGH_PRIME = 1000000033\n",
    "BASE = 26\n",
    "np.random.seed(42)\n",
    "\n",
    "\n",
    "BASE_VECTOR = sc.broadcast(np.array([BASE**i for i in range(SHINGLES - 1, -1, -1)]))\n",
    "\n",
    "\n",
    "def make_hash_functions(no_hash_functions: int, max_value: int):\n",
    "    return list(\n",
    "        zip(\n",
    "            np.random.randint(1, max_value, (no_hash_functions,)),\n",
    "            np.random.randint(0, max_value, (no_hash_functions,)),\n",
    "        )\n",
    "    )\n",
    "\n",
    "\n",
    "hash_functions_params = sc.broadcast(\n",
    "    make_hash_functions(NO_HASH_FUNCTIONS, BIG_ENOUGH_PRIME)\n",
    ")"
   ],
   "id": "764b928d33103cc7",
   "outputs": [],
   "execution_count": 8
  },
  {
   "metadata": {
    "ExecuteTime": {
     "end_time": "2024-05-14T20:49:49.878351Z",
     "start_time": "2024-05-14T20:49:49.875280Z"
    },
    "id": "cf2fb876809082bf"
   },
   "cell_type": "code",
   "source": [
    "def _lsh(value: str) -> list[(int, int)]:\n",
    "    _value = (np.frombuffer(value.encode(), dtype=np.uint8) - ord(\"A\")).astype(np.int64)\n",
    "    _almost_shingles_vector_not_even_close = np.array(\n",
    "        [_value[i : i + len(_value) - SHINGLES + 1] for i in range(SHINGLES)]\n",
    "    )\n",
    "    indexes = BASE_VECTOR.value @ _almost_shingles_vector_not_even_close\n",
    "    min_hashing = np.array(\n",
    "        [\n",
    "            np.min((indexes * a + b) % BIG_ENOUGH_PRIME)\n",
    "            for a, b in hash_functions_params.value\n",
    "        ]\n",
    "    )\n",
    "    return [\n",
    "        (i, hash(tuple(min_hashing[b : b + ROWS])))\n",
    "        for i, b in enumerate(range(0, 100, ROWS))\n",
    "    ]"
   ],
   "id": "cf2fb876809082bf",
   "outputs": [],
   "execution_count": 9
  },
  {
   "metadata": {
    "ExecuteTime": {
     "end_time": "2024-05-14T20:49:49.903778Z",
     "start_time": "2024-05-14T20:49:49.879590Z"
    },
    "id": "a2d7e7936a02b5b"
   },
   "cell_type": "code",
   "source": [
    "lsh = F.udf(\n",
    "    _lsh,\n",
    "    ArrayType(\n",
    "        StructType(\n",
    "            [StructField(\"band\", IntegerType()), StructField(\"hash\", IntegerType())]\n",
    "        )\n",
    "    ),\n",
    ")\n",
    "name_lsh_pairs = (\n",
    "    fasta.withColumn(\"lsh_ed\", lsh(F.col(\"value\")))\n",
    "    .withColumn(\"lsh\", F.explode(F.col(\"lsh_ed\")))\n",
    "    .select(\"name\", \"lsh\")\n",
    ")"
   ],
   "id": "a2d7e7936a02b5b",
   "outputs": [],
   "execution_count": 10
  },
  {
   "metadata": {
    "ExecuteTime": {
     "end_time": "2024-05-14T20:49:49.925379Z",
     "start_time": "2024-05-14T20:49:49.904421Z"
    },
    "id": "2776b6da1813e4b4"
   },
   "cell_type": "code",
   "source": [
    "all_candidates = (\n",
    "    name_lsh_pairs.withColumnRenamed(\"name\", \"name_1\")\n",
    "    .join(name_lsh_pairs.withColumnRenamed(\"name\", \"name_2\"), on=\"lsh\")\n",
    "    .filter(F.col(\"name_1\") < F.col(\"name_2\"))\n",
    "    .select(\"name_1\", \"name_2\")\n",
    "    .distinct()\n",
    ")"
   ],
   "id": "2776b6da1813e4b4",
   "outputs": [],
   "execution_count": 11
  },
  {
   "metadata": {
    "ExecuteTime": {
     "end_time": "2024-05-14T20:49:50.423860Z",
     "start_time": "2024-05-14T20:49:49.926147Z"
    },
    "colab": {
     "base_uri": "https://localhost:8080/"
    },
    "id": "6ddfe8707c0de6e4",
    "outputId": "12502b49-cf7d-4cc4-a097-40d1397ffc69"
   },
   "cell_type": "code",
   "source": [
    "def n_choose_2(_n: int) -> int:\n",
    "    return _n * (_n - 1) // 2\n",
    "\n",
    "\n",
    "group_definitions = (\n",
    "    spark.read.json(f\"{FILE_PATH}data/group_definition.json\")\n",
    "    .rdd.flatMap(lambda x: x.asDict().items())\n",
    "    .toDF([\"group\", \"names\"])\n",
    ")\n",
    "\n",
    "group_mapping = group_definitions.withColumn(\"name\", F.explode(F.col(\"names\"))).drop(\n",
    "    \"names\"\n",
    ")\n",
    "\n",
    "group_counts = group_definitions.withColumn(\"count\", F.size(F.col(\"names\"))).withColumn(\n",
    "    \"n_choose_2\", F.floor(F.col(\"count\") * (F.col(\"count\") - 1) / 2)\n",
    ")\n",
    "\n",
    "all_pairs_count = n_choose_2(group_counts.agg(F.sum(\"count\")).collect()[0][0])\n",
    "all_matching_pairs_count = group_counts.agg(F.sum(\"n_choose_2\")).collect()[0][0]\n",
    "all_non_matching_pairs_count = all_pairs_count - all_matching_pairs_count\n",
    "\n",
    "print(f\"Total pairs: {all_pairs_count}\")\n",
    "print(f\"Matching pairs: {all_matching_pairs_count}\")\n",
    "print(f\"Non-matching pairs: {all_non_matching_pairs_count}\")\n",
    "\n",
    "group_mapping_1 = group_mapping.withColumnRenamed(\"name\", \"name_1\").withColumnRenamed(\n",
    "    \"group\", \"group_1\"\n",
    ")\n",
    "group_mapping_2 = group_mapping.withColumnRenamed(\"name\", \"name_2\").withColumnRenamed(\n",
    "    \"group\", \"group_2\"\n",
    ")"
   ],
   "id": "6ddfe8707c0de6e4",
   "outputs": [
    {
     "output_type": "stream",
     "name": "stderr",
     "text": []
    },
    {
     "output_type": "stream",
     "name": "stdout",
     "text": [
      "Total pairs: 315293716\n",
      "Matching pairs: 31616541\n",
      "Non-matching pairs: 283677175\n"
     ]
    },
    {
     "output_type": "stream",
     "name": "stderr",
     "text": [
      "\r                                                                                \r"
     ]
    }
   ],
   "execution_count": 12
  },
  {
   "metadata": {
    "ExecuteTime": {
     "end_time": "2024-05-14T20:49:50.442644Z",
     "start_time": "2024-05-14T20:49:50.424757Z"
    },
    "id": "61d283a194db50e"
   },
   "cell_type": "code",
   "source": [
    "all_candidates_mapped_to_clusters = all_candidates.join(\n",
    "    group_mapping_1, on=\"name_1\"\n",
    ").join(group_mapping_2, on=\"name_2\")"
   ],
   "id": "61d283a194db50e",
   "outputs": [],
   "execution_count": 13
  },
  {
   "metadata": {
    "jupyter": {
     "is_executing": true
    },
    "ExecuteTime": {
     "start_time": "2024-05-14T20:49:50.443526Z"
    },
    "colab": {
     "base_uri": "https://localhost:8080/"
    },
    "id": "581c726bcb787ec3",
    "outputId": "bb7d5451-b054-470f-fe4f-0fb8242a11c6"
   },
   "cell_type": "code",
   "source": [
    "count_calculated, matching_count_calculated = all_candidates_mapped_to_clusters.select(\n",
    "    F.count(\"*\"), F.count(F.when(F.col(\"group_1\") == F.col(\"group_2\"), 1))\n",
    ").collect()[0]\n",
    "non_matching_count_calculated = count_calculated - matching_count_calculated"
   ],
   "id": "581c726bcb787ec3",
   "outputs": [
    {
     "output_type": "stream",
     "name": "stderr",
     "text": []
    }
   ],
   "execution_count": 14
  },
  {
   "metadata": {
    "jupyter": {
     "is_executing": true
    },
    "colab": {
     "base_uri": "https://localhost:8080/"
    },
    "id": "944e6b6295615f47",
    "outputId": "9d3fdcbf-2ebb-482f-9e52-f0b76e7bc021"
   },
   "cell_type": "code",
   "source": [
    "print(\"=\" * 100)\n",
    "print(f\"[Calc] Total count: {count_calculated}\")\n",
    "print(f\"[Calc] Matching count: {matching_count_calculated}\")\n",
    "print(f\"[Calc] Non-matching count: {non_matching_count_calculated}\")\n",
    "print(\"=\" * 100)\n",
    "print(f\"[Real] Total from reference data: {all_pairs_count}\")\n",
    "print(f\"[Real] Total from reference data: {all_matching_pairs_count}\")\n",
    "print(f\"[Real] Total from reference data: {all_non_matching_pairs_count}\")\n",
    "print(\"=\" * 100)\n",
    "print(f\"True positive rate: {matching_count_calculated / all_matching_pairs_count}\")\n",
    "print(f\"False positive rate: {non_matching_count_calculated / all_non_matching_pairs_count}\")\n",
    "print(\"=\" * 100)"
   ],
   "id": "944e6b6295615f47",
   "outputs": [
    {
     "output_type": "stream",
     "name": "stdout",
     "text": [
      "====================================================================================================\n",
      "[Calc] Total count: 9316924\n",
      "[Calc] Matching count: 9025012\n",
      "[Calc] Non-matching count: 291912\n",
      "====================================================================================================\n",
      "[Real] Total from reference data: 315293716\n",
      "[Real] Total from reference data: 31616541\n",
      "[Real] Total from reference data: 283677175\n",
      "====================================================================================================\n",
      "True positive rate: 0.28545222578270024\n",
      "False positive rate: 0.0010290288600060967\n",
      "====================================================================================================\n"
     ]
    }
   ],
   "execution_count": 15
  },
  {
   "metadata": {
    "jupyter": {
     "is_executing": true
    },
    "colab": {
     "base_uri": "https://localhost:8080/"
    },
    "id": "1fb29f12cf78c013",
    "outputId": "78669519-1580-49f9-a2d5-c52f80b9c4ed"
   },
   "cell_type": "code",
   "source": [
    "end_time = datetime.now()\n",
    "time_diff = end_time - start_time\n",
    "\n",
    "print(\n",
    "    f\"Execution took {time_diff.seconds // 60} minutes and {time_diff.seconds % 60} seconds\"\n",
    ")"
   ],
   "id": "1fb29f12cf78c013",
   "outputs": [
    {
     "output_type": "stream",
     "name": "stdout",
     "text": [
      "Execution took 17 minutes and 48 seconds\n"
     ]
    }
   ],
   "execution_count": 16
  },
  {
   "metadata": {},
   "cell_type": "markdown",
   "source": "On my personal PC this takes ~1.5 minutes to execute.",
   "id": "eb88588a1fae559d"
  },
  {
   "metadata": {
    "jupyter": {
     "is_executing": true
    },
    "id": "5c68dc5d48902462"
   },
   "cell_type": "code",
   "source": [],
   "id": "5c68dc5d48902462",
   "outputs": [],
   "execution_count": 16
  }
 ],
 "metadata": {
  "kernelspec": {
   "display_name": "Python 3",
   "language": "python",
   "name": "python3"
  },
  "language_info": {
   "codemirror_mode": {
    "name": "ipython",
    "version": 3
   },
   "file_extension": ".py",
   "mimetype": "text/x-python",
   "name": "python",
   "nbconvert_exporter": "python",
   "pygments_lexer": "ipython3",
   "version": "3.10.12"
  },
  "colab": {
   "provenance": []
  }
 },
 "nbformat": 4,
 "nbformat_minor": 5
}
