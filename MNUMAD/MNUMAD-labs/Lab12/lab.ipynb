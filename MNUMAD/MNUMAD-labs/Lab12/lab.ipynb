{
 "cells": [
  {
   "cell_type": "markdown",
   "source": [
    "Simple neural network\n",
    "Layers: 2, 2, 3, 2"
   ],
   "metadata": {
    "collapsed": false
   }
  },
  {
   "cell_type": "code",
   "execution_count": 3,
   "outputs": [],
   "source": [
    "import numpy as np"
   ],
   "metadata": {
    "collapsed": false,
    "ExecuteTime": {
     "end_time": "2023-06-06T16:41:45.851162243Z",
     "start_time": "2023-06-06T16:41:45.789032810Z"
    }
   }
  },
  {
   "cell_type": "code",
   "execution_count": 383,
   "outputs": [],
   "source": [
    "from scipy.optimize import least_squares"
   ],
   "metadata": {
    "collapsed": false,
    "ExecuteTime": {
     "end_time": "2023-05-30T20:51:49.763956095Z",
     "start_time": "2023-05-30T20:51:49.706237235Z"
    }
   }
  },
  {
   "cell_type": "code",
   "execution_count": 6,
   "outputs": [],
   "source": [
    "x1 = [0.1, 0.3, 0.1, 0.6, 0.4, 0.6, 0.5, 0.9, 0.4, 0.7]\n",
    "x2 = [0.1, 0.4, 0.5, 0.9, 0.2, 0.3, 0.6, 0.2, 0.4, 0.6]\n",
    "y1 = [1, 1, 1, 1, 1, 0, 0, 0, 0, 0]\n",
    "y2 = [0, 0, 0, 0, 0, 1, 1, 1, 1, 1]"
   ],
   "metadata": {
    "collapsed": false,
    "ExecuteTime": {
     "end_time": "2023-06-06T16:41:56.862766256Z",
     "start_time": "2023-06-06T16:41:56.860244786Z"
    }
   }
  },
  {
   "cell_type": "code",
   "execution_count": 14,
   "outputs": [],
   "source": [
    "def sigmoid(x):\n",
    "    return 1 / (1 + np.exp(-x))\n",
    "\n",
    "def sigmoid_prime(x):\n",
    "    return sigmoid(x) * (1 - sigmoid(x))\n",
    "\n",
    "def feed_forward(x, w1, w2, w3, b1, b2, b3):\n",
    "    x = np.array(x).reshape(2, 1)\n",
    "    z1 = np.dot(w1, x) + b1\n",
    "    assert z1.shape == (2, 1)\n",
    "    a1 = sigmoid(z1)\n",
    "    z2 = np.dot(w2, a1) + b2\n",
    "    assert z2.shape == (3, 1)\n",
    "    a2 = sigmoid(z2)\n",
    "    z3 = np.dot(w3, a2) + b3\n",
    "    assert z3.shape == (2, 1)\n",
    "    a3 = sigmoid(z3)\n",
    "    return a3"
   ],
   "metadata": {
    "collapsed": false,
    "ExecuteTime": {
     "end_time": "2023-06-06T16:44:40.917634323Z",
     "start_time": "2023-06-06T16:44:40.869330385Z"
    }
   }
  },
  {
   "cell_type": "code",
   "execution_count": 8,
   "outputs": [],
   "source": [
    "def residuum_function(x, y, w1, w2, w3, b1, b2, b3):\n",
    "    a3 = feed_forward(x, w1, w2, w3, b1, b2, b3)\n",
    "    y = np.array(y).reshape(2, 1)\n",
    "    return np.linalg.norm(a3 - y)"
   ],
   "metadata": {
    "collapsed": false,
    "ExecuteTime": {
     "end_time": "2023-06-06T16:41:59.750453960Z",
     "start_time": "2023-06-06T16:41:59.743601110Z"
    }
   }
  },
  {
   "cell_type": "code",
   "execution_count": 9,
   "outputs": [],
   "source": [
    "def f(params):\n",
    "    w1 = params[:4].reshape(2, 2)\n",
    "    w2 = params[4:10].reshape(3, 2)\n",
    "    w3 = params[10:16].reshape(2, 3)\n",
    "    b1 = params[16:18].reshape(2, 1)\n",
    "    b2 = params[18:21].reshape(3, 1)\n",
    "    b3 = params[21:23].reshape(2, 1)\n",
    "    residuums = np.zeros(len(x1))\n",
    "    for idx, (x, y) in enumerate(zip(zip(x1, x2), zip(y1, y2))):\n",
    "        residuum = residuum_function(x, y, w1, w2, w3, b1, b2, b3)\n",
    "        residuums[idx] = np.sum(residuum)\n",
    "    return residuums"
   ],
   "metadata": {
    "collapsed": false,
    "ExecuteTime": {
     "end_time": "2023-06-06T16:42:01.491843734Z",
     "start_time": "2023-06-06T16:42:01.488312916Z"
    }
   }
  },
  {
   "cell_type": "code",
   "execution_count": 388,
   "outputs": [],
   "source": [
    "params0 = np.random.rand(23)"
   ],
   "metadata": {
    "collapsed": false,
    "ExecuteTime": {
     "end_time": "2023-05-30T20:51:49.765301310Z",
     "start_time": "2023-05-30T20:51:49.726199258Z"
    }
   }
  },
  {
   "cell_type": "code",
   "execution_count": 389,
   "outputs": [],
   "source": [
    "res = least_squares(f, params0)"
   ],
   "metadata": {
    "collapsed": false,
    "ExecuteTime": {
     "end_time": "2023-05-30T20:51:53.405856702Z",
     "start_time": "2023-05-30T20:51:49.759832796Z"
    }
   }
  },
  {
   "cell_type": "code",
   "execution_count": 390,
   "outputs": [],
   "source": [
    "def unpack_result(params):\n",
    "    w1 = params[:4].reshape(2, 2)\n",
    "    w2 = params[4:10].reshape(3, 2)\n",
    "    w3 = params[10:16].reshape(2, 3)\n",
    "    b1 = params[16:18].reshape(2, 1)\n",
    "    b2 = params[18:21].reshape(3, 1)\n",
    "    b3 = params[21:23].reshape(2, 1)\n",
    "    return w1, w2, w3, b1, b2, b3"
   ],
   "metadata": {
    "collapsed": false,
    "ExecuteTime": {
     "end_time": "2023-05-30T20:51:53.407698869Z",
     "start_time": "2023-05-30T20:51:53.406224686Z"
    }
   }
  },
  {
   "cell_type": "code",
   "execution_count": 391,
   "outputs": [],
   "source": [
    "def forward(x1, x2):\n",
    "    w1, w2, w3, b1, b2, b3 = unpack_result(res.x)\n",
    "    return feed_forward([x1, x2], w1, w2, w3, b1, b2, b3)"
   ],
   "metadata": {
    "collapsed": false,
    "ExecuteTime": {
     "end_time": "2023-05-30T20:51:53.407951431Z",
     "start_time": "2023-05-30T20:51:53.406504992Z"
    }
   }
  },
  {
   "cell_type": "code",
   "execution_count": 392,
   "outputs": [
    {
     "data": {
      "text/plain": "array([[9.99993338e-01],\n       [6.43456769e-06]])"
     },
     "execution_count": 392,
     "metadata": {},
     "output_type": "execute_result"
    }
   ],
   "source": [
    "forward(0.1, 0.1)"
   ],
   "metadata": {
    "collapsed": false,
    "ExecuteTime": {
     "end_time": "2023-05-30T20:51:53.408269981Z",
     "start_time": "2023-05-30T20:51:53.406647663Z"
    }
   }
  },
  {
   "cell_type": "code",
   "execution_count": 88,
   "outputs": [],
   "source": [
    "N = 200\n",
    "BEGIN = 0\n",
    "END = 1\n",
    "X1 = np.linspace(BEGIN, END, N)\n",
    "X2 = np.linspace(BEGIN, END, N)\n",
    "XV, YV = np.meshgrid(X1, X2)"
   ],
   "metadata": {
    "collapsed": false,
    "ExecuteTime": {
     "end_time": "2023-06-06T17:05:56.334166979Z",
     "start_time": "2023-06-06T17:05:56.256598434Z"
    }
   }
  },
  {
   "cell_type": "code",
   "execution_count": 394,
   "outputs": [],
   "source": [
    "def map_forward_S1(x1, x2):\n",
    "    forw = forward(x1, x2)\n",
    "    return forw[0] / (forw[0] + forw[1])\n",
    "\n",
    "def map_forward_S2(x1, x2):\n",
    "    forw = forward(x1, x2)\n",
    "    return forw[1] / (forw[0] + forw[1])\n",
    "\n",
    "vec_forward_S1 = np.vectorize(map_forward_S1)\n",
    "vec_forward_S2 = np.vectorize(map_forward_S2)\n",
    "YC1 = vec_forward_S1(XV, YV)\n",
    "YC2 = vec_forward_S2(XV, YV)\n"
   ],
   "metadata": {
    "collapsed": false,
    "ExecuteTime": {
     "end_time": "2023-05-30T20:52:41.291785511Z",
     "start_time": "2023-05-30T20:51:53.406892144Z"
    }
   }
  },
  {
   "cell_type": "code",
   "execution_count": 395,
   "outputs": [],
   "source": [
    "# Y = np.array([map_forward(x1, x2) for (x1, x2) in POINTS])"
   ],
   "metadata": {
    "collapsed": false,
    "ExecuteTime": {
     "end_time": "2023-05-30T20:52:41.298242296Z",
     "start_time": "2023-05-30T20:52:41.295256231Z"
    }
   }
  },
  {
   "cell_type": "code",
   "execution_count": 49,
   "outputs": [],
   "source": [
    "import matplotlib.pyplot as plt"
   ],
   "metadata": {
    "collapsed": false,
    "ExecuteTime": {
     "end_time": "2023-06-06T16:57:37.677260824Z",
     "start_time": "2023-06-06T16:57:37.674495036Z"
    }
   }
  },
  {
   "cell_type": "code",
   "execution_count": 397,
   "outputs": [
    {
     "data": {
      "text/plain": "<Figure size 640x480 with 2 Axes>",
      "image/png": "[encoded data removed]"
     },
     "metadata": {},
     "output_type": "display_data"
    }
   ],
   "source": [
    "h = plt.contourf(XV, YV, YC1)\n",
    "plt.scatter(x1, x2, c=y1)\n",
    "plt.axis('scaled')\n",
    "plt.colorbar()\n",
    "plt.show()"
   ],
   "metadata": {
    "collapsed": false,
    "ExecuteTime": {
     "end_time": "2023-05-30T20:52:41.564464384Z",
     "start_time": "2023-05-30T20:52:41.321859173Z"
    }
   }
  },
  {
   "cell_type": "code",
   "execution_count": 30,
   "outputs": [
    {
     "ename": "NameError",
     "evalue": "name 'YC2' is not defined",
     "output_type": "error",
     "traceback": [
      "\u001B[0;31m---------------------------------------------------------------------------\u001B[0m",
      "\u001B[0;31mNameError\u001B[0m                                 Traceback (most recent call last)",
      "Cell \u001B[0;32mIn[30], line 1\u001B[0m\n\u001B[0;32m----> 1\u001B[0m h \u001B[38;5;241m=\u001B[39m plt\u001B[38;5;241m.\u001B[39mcontourf(XV, YV, \u001B[43mYC2\u001B[49m)\n\u001B[1;32m      2\u001B[0m plt\u001B[38;5;241m.\u001B[39maxis(\u001B[38;5;124m'\u001B[39m\u001B[38;5;124mscaled\u001B[39m\u001B[38;5;124m'\u001B[39m)\n\u001B[1;32m      3\u001B[0m plt\u001B[38;5;241m.\u001B[39mcolorbar()\n",
      "\u001B[0;31mNameError\u001B[0m: name 'YC2' is not defined"
     ]
    }
   ],
   "source": [
    "h = plt.contourf(XV, YV, YC2)\n",
    "plt.axis('scaled')\n",
    "plt.colorbar()\n",
    "plt.show()"
   ],
   "metadata": {
    "collapsed": false,
    "ExecuteTime": {
     "end_time": "2023-06-06T16:50:11.007386657Z",
     "start_time": "2023-06-06T16:50:10.963812363Z"
    }
   }
  },
  {
   "cell_type": "markdown",
   "source": [
    "Next lab\n",
    "$p_{k+1} = p_k - \\lambda \\cdot \\nabla \\text{cost}(p_i)$\n",
    "Na ćwiczeniach obliczyliśmy $\\nabla c_i (p)$:\n",
    "$\\delta^{[L]} = \\sigma' (z^{[l]}) \\cdot (a^{[l]} - y_i)$\n",
    "$\\delta^{[l]} = \\sigma' (z^{[l]}) \\cdot (W^{[l+1]})^T \\cdot \\delta^{[l+1]}$\n",
    "$\\frac{\\partial C_i}{\\partial b_j^{[l]}} = \\delta_j^{[l]}$\n",
    "$\\frac{\\partial C_i}{\\partial W_{j,k}^{[l]}} = \\delta_j^{[l]} \\cdot a_k^{[l-1]}$\n",
    "\n",
    "Zadanie:\n",
    "- Wylosować $i \\in {1,..., N}$\n",
    "- Obliczyć $\\nabla c_i (p)$"
   ],
   "metadata": {
    "collapsed": false
   }
  },
  {
   "cell_type": "code",
   "execution_count": 200,
   "outputs": [
    {
     "ename": "KeyboardInterrupt",
     "evalue": "",
     "output_type": "error",
     "traceback": [
      "\u001B[0;31m---------------------------------------------------------------------------\u001B[0m",
      "\u001B[0;31mKeyboardInterrupt\u001B[0m                         Traceback (most recent call last)",
      "Cell \u001B[0;32mIn[200], line 81\u001B[0m\n\u001B[1;32m     79\u001B[0m learning_rate \u001B[38;5;241m=\u001B[39m \u001B[38;5;241m0.05\u001B[39m\n\u001B[1;32m     80\u001B[0m \u001B[38;5;28;01mfor\u001B[39;00m epoch \u001B[38;5;129;01min\u001B[39;00m \u001B[38;5;28mrange\u001B[39m(\u001B[38;5;28mint\u001B[39m(\u001B[38;5;241m1e6\u001B[39m)):\n\u001B[0;32m---> 81\u001B[0m     dw_1, dw_2, dw_3, db_1, db_2, db_3 \u001B[38;5;241m=\u001B[39m \u001B[43mcalculate_gradient\u001B[49m\u001B[43m(\u001B[49m\u001B[43mp\u001B[49m\u001B[43m)\u001B[49m\n\u001B[1;32m     82\u001B[0m     p[\u001B[38;5;241m0\u001B[39m] \u001B[38;5;241m=\u001B[39m p[\u001B[38;5;241m0\u001B[39m] \u001B[38;5;241m-\u001B[39m learning_rate \u001B[38;5;241m*\u001B[39m dw_1\n\u001B[1;32m     83\u001B[0m     p[\u001B[38;5;241m1\u001B[39m] \u001B[38;5;241m=\u001B[39m p[\u001B[38;5;241m1\u001B[39m] \u001B[38;5;241m-\u001B[39m learning_rate \u001B[38;5;241m*\u001B[39m dw_2\n",
      "Cell \u001B[0;32mIn[200], line 26\u001B[0m, in \u001B[0;36mcalculate_gradient\u001B[0;34m(params)\u001B[0m\n\u001B[1;32m     23\u001B[0m \u001B[38;5;28;01massert\u001B[39;00m z3\u001B[38;5;241m.\u001B[39mshape \u001B[38;5;241m==\u001B[39m (\u001B[38;5;241m2\u001B[39m, \u001B[38;5;241m1\u001B[39m)\n\u001B[1;32m     24\u001B[0m a3 \u001B[38;5;241m=\u001B[39m sigmoid(z3)\n\u001B[0;32m---> 26\u001B[0m delta3 \u001B[38;5;241m=\u001B[39m (a3 \u001B[38;5;241m-\u001B[39m y) \u001B[38;5;241m*\u001B[39m \u001B[43msigmoid_prime\u001B[49m\u001B[43m(\u001B[49m\u001B[43mz3\u001B[49m\u001B[43m)\u001B[49m\n\u001B[1;32m     27\u001B[0m \u001B[38;5;28;01massert\u001B[39;00m delta3\u001B[38;5;241m.\u001B[39mshape \u001B[38;5;241m==\u001B[39m (\u001B[38;5;241m2\u001B[39m, \u001B[38;5;241m1\u001B[39m)\n\u001B[1;32m     28\u001B[0m delta2 \u001B[38;5;241m=\u001B[39m np\u001B[38;5;241m.\u001B[39mdot(w3\u001B[38;5;241m.\u001B[39mT, delta3) \u001B[38;5;241m*\u001B[39m sigmoid_prime(z2)\n",
      "Cell \u001B[0;32mIn[14], line 5\u001B[0m, in \u001B[0;36msigmoid_prime\u001B[0;34m(x)\u001B[0m\n\u001B[1;32m      4\u001B[0m \u001B[38;5;28;01mdef\u001B[39;00m \u001B[38;5;21msigmoid_prime\u001B[39m(x):\n\u001B[0;32m----> 5\u001B[0m     \u001B[38;5;28;01mreturn\u001B[39;00m \u001B[43msigmoid\u001B[49m\u001B[43m(\u001B[49m\u001B[43mx\u001B[49m\u001B[43m)\u001B[49m \u001B[38;5;241m*\u001B[39m (\u001B[38;5;241m1\u001B[39m \u001B[38;5;241m-\u001B[39m sigmoid(x))\n",
      "\u001B[0;31mKeyboardInterrupt\u001B[0m: "
     ]
    }
   ],
   "source": [
    "p = [np.random.randn(2, 2), np.random.randn(3, 2), np.random.randn(2, 3),\n",
    "     np.random.randn(2, 1), np.random.randn(3, 1), np.random.randn(2, 1)]\n",
    "\n",
    "diffs = []\n",
    "\n",
    "\n",
    "def calculate_gradient(params):\n",
    "    w1, w2, w3, b1, b2, b3 = params\n",
    "\n",
    "    i = np.random.randint(0, len(x1))\n",
    "    x = [x1[i], x2[i]]\n",
    "    x = np.array(x).reshape(2, 1)\n",
    "    y = [y1[i], y2[i]]\n",
    "    y = np.array(y).reshape(2, 1)\n",
    "\n",
    "    z1 = np.dot(w1, x) + b1\n",
    "    assert z1.shape == (2, 1)\n",
    "    a1 = sigmoid(z1)\n",
    "    z2 = np.dot(w2, a1) + b2\n",
    "    assert z2.shape == (3, 1)\n",
    "    a2 = sigmoid(z2)\n",
    "    z3 = np.dot(w3, a2) + b3\n",
    "    assert z3.shape == (2, 1)\n",
    "    a3 = sigmoid(z3)\n",
    "\n",
    "    delta3 = (a3 - y) * sigmoid_prime(z3)\n",
    "    assert delta3.shape == (2, 1)\n",
    "    delta2 = np.dot(w3.T, delta3) * sigmoid_prime(z2)\n",
    "    assert delta2.shape == (3, 1)\n",
    "    delta1 = np.dot(w2.T, delta2) * sigmoid_prime(z1)\n",
    "    assert delta1.shape == (2, 1)\n",
    "\n",
    "    dw1 = np.dot(delta1, x.T)\n",
    "    assert dw1.shape == (2, 2)\n",
    "    dw2 = np.dot(delta2, a1.T)\n",
    "    assert dw2.shape == (3, 2)\n",
    "    dw3 = np.dot(delta3, a2.T)\n",
    "    assert dw3.shape == (2, 3)\n",
    "    db1 = delta1\n",
    "    assert db1.shape == (2, 1)\n",
    "    db2 = delta2\n",
    "    assert db2.shape == (3, 1)\n",
    "    db3 = delta3\n",
    "    assert db3.shape == (2, 1)\n",
    "\n",
    "    return dw1, dw2, dw3, db1, db2, db3\n",
    "\n",
    "\n",
    "def feed_forward(_x1, _x2):\n",
    "    x = [_x1, _x2]\n",
    "    x = np.array(x).reshape(2, 1)\n",
    "    z1 = np.dot(p[0], x) + p[3]\n",
    "    assert z1.shape == (2, 1)\n",
    "    a1 = sigmoid(z1)\n",
    "    z2 = np.dot(p[1], a1) + p[4]\n",
    "    assert z2.shape == (3, 1)\n",
    "    a2 = sigmoid(z2)\n",
    "    z3 = np.dot(p[2], a2) + p[5]\n",
    "    assert z3.shape == (2, 1)\n",
    "    a3 = sigmoid(z3)\n",
    "    return a3[0] / (a3[0] + a3[1])\n",
    "\n",
    "\n",
    "def feed_forward_vec(_x1, _x2):\n",
    "    x = [_x1, _x2]\n",
    "    x = np.array(x).reshape(2, 1)\n",
    "    z1 = np.dot(p[0], x) + p[3]\n",
    "    assert z1.shape == (2, 1)\n",
    "    a1 = sigmoid(z1)\n",
    "    z2 = np.dot(p[1], a1) + p[4]\n",
    "    assert z2.shape == (3, 1)\n",
    "    a2 = sigmoid(z2)\n",
    "    z3 = np.dot(p[2], a2) + p[5]\n",
    "    assert z3.shape == (2, 1)\n",
    "    a3 = sigmoid(z3)\n",
    "    return a3\n",
    "\n",
    "\n",
    "learning_rate = 0.05\n",
    "for epoch in range(int(1e6)):\n",
    "    dw_1, dw_2, dw_3, db_1, db_2, db_3 = calculate_gradient(p)\n",
    "    p[0] = p[0] - learning_rate * dw_1\n",
    "    p[1] = p[1] - learning_rate * dw_2\n",
    "    p[2] = p[2] - learning_rate * dw_3\n",
    "    p[3] = p[3] - learning_rate * db_1\n",
    "    p[4] = p[4] - learning_rate * db_2\n",
    "    p[5] = p[5] - learning_rate * db_3\n",
    "\n",
    "    if epoch % 100 == 0:\n",
    "        diff = 0\n",
    "        for i in range(len(x1)):\n",
    "            diff += (feed_forward_vec(x1[i], x2[i]) - np.array([y1[i], y2[i]]).reshape(2, 1))\n",
    "        diffs.append(np.linalg.norm(diff))\n",
    "\n",
    "vec_forward_sgd = np.vectorize(feed_forward)"
   ],
   "metadata": {
    "collapsed": false,
    "ExecuteTime": {
     "end_time": "2023-06-06T17:34:21.507451111Z",
     "start_time": "2023-06-06T17:33:06.157753370Z"
    }
   }
  },
  {
   "cell_type": "code",
   "execution_count": null,
   "outputs": [],
   "source": [
    "feed_forward(0.5, 0.5)\n",
    "\n",
    "print(p)"
   ],
   "metadata": {
    "collapsed": false
   }
  },
  {
   "cell_type": "code",
   "execution_count": null,
   "outputs": [],
   "source": [
    "h = plt.contourf(XV, YV, vec_forward_sgd(XV, YV))\n",
    "plt.scatter(x1, x2, c=y1)\n",
    "plt.axis('scaled')\n",
    "plt.colorbar()\n",
    "plt.show()"
   ],
   "metadata": {
    "collapsed": false
   }
  },
  {
   "cell_type": "code",
   "execution_count": null,
   "outputs": [],
   "source": [
    "plt.plot(diffs[:10000])\n",
    "# # Use log scale\n",
    "plt.yscale('log')\n",
    "len(diffs)"
   ],
   "metadata": {
    "collapsed": false
   }
  }
 ],
 "metadata": {
  "kernelspec": {
   "display_name": "Python 3",
   "language": "python",
   "name": "python3"
  },
  "language_info": {
   "codemirror_mode": {
    "name": "ipython",
    "version": 2
   },
   "file_extension": ".py",
   "mimetype": "text/x-python",
   "name": "python",
   "nbconvert_exporter": "python",
   "pygments_lexer": "ipython2",
   "version": "2.7.6"
  }
 },
 "nbformat": 4,
 "nbformat_minor": 0
}
