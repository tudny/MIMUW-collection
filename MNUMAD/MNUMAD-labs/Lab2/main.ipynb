{
 "cells": [
  {
   "cell_type": "code",
   "execution_count": null,
   "outputs": [],
   "source": [
    "import numpy as np"
   ],
   "metadata": {
    "collapsed": false,
    "pycharm": {
     "is_executing": true
    }
   }
  },
  {
   "cell_type": "markdown",
   "source": [
    "1. Generowanie LZNK o zadanym $cond_2(A)$ i znanym rozwiązaniu."
   ],
   "metadata": {
    "collapsed": false
   }
  },
  {
   "cell_type": "code",
   "execution_count": 3,
   "outputs": [],
   "source": [
    "M, N = 7, 5\n",
    "\n",
    "\n",
    "def generate_cond2(m, n, rcond):\n",
    "    rand_gen = np.random.RandomState(42)\n",
    "    a = rand_gen.randn(m, n)\n",
    "    u, _, vt = np.linalg.svd(a, full_matrices=True)\n",
    "    sigma1 = 1\n",
    "    sigma_n = sigma1 * rcond\n",
    "    s = np.logspace(np.log10(sigma_n), np.log10(sigma1), n)\n",
    "    a = (u[:, :N] * s) @ vt\n",
    "    b = rand_gen.randn(m)\n",
    "\n",
    "    x = (vt.T * (1 / s)) @ u[:, :N].T @ b\n",
    "    norm = np.linalg.norm(a @ x - b)\n",
    "    return a, b, x, norm\n",
    "\n",
    "\n",
    "a, b, x, norm = generate_cond2(M, N, 1e-3)\n"
   ],
   "metadata": {
    "collapsed": false
   }
  },
  {
   "cell_type": "markdown",
   "source": [],
   "metadata": {
    "collapsed": false
   }
  },
  {
   "cell_type": "code",
   "execution_count": 4,
   "outputs": [],
   "source": [
    "from sklearn.linear_model import Ridge"
   ],
   "metadata": {
    "collapsed": false
   }
  },
  {
   "cell_type": "code",
   "execution_count": 5,
   "outputs": [
    {
     "name": "stdout",
     "output_type": "stream",
     "text": [
      "[  5.38053213 782.37865967 -74.94954066 879.28160089 941.49039161]\n",
      "0.4357943038643938\n",
      "0.4357943038643938\n"
     ]
    }
   ],
   "source": [
    "alpha = 1e-10\n",
    "\n",
    "print(x)\n",
    "print(np.linalg.norm(a @ x - b))\n",
    "print(norm)"
   ],
   "metadata": {
    "collapsed": false
   }
  },
  {
   "cell_type": "code",
   "execution_count": 10,
   "outputs": [
    {
     "name": "stdout",
     "output_type": "stream",
     "text": [
      "[  5.38053213 782.37865967 -74.94954066 879.28160089 941.49039161]\n",
      "0.43579430386441953\n"
     ]
    }
   ],
   "source": [
    "a_prime = np.vstack((a, alpha * np.eye(N)))\n",
    "b_prime = np.hstack((b, np.zeros(N)))\n",
    "\n",
    "x_a = np.linalg.lstsq(a_prime, b_prime, rcond = None)[0]\n",
    "\n",
    "print(x_a)\n",
    "print(np.linalg.norm(a @ x_a - b))"
   ],
   "metadata": {
    "collapsed": false
   }
  },
  {
   "cell_type": "code",
   "execution_count": 11,
   "outputs": [
    {
     "name": "stdout",
     "output_type": "stream",
     "text": [
      "[  5.38272526 782.30168061 -74.94263797 879.19116453 941.39769113]\n",
      "0.4357943299667708\n"
     ]
    }
   ],
   "source": [
    "ridge = Ridge(alpha=alpha, fit_intercept=False)\n",
    "ridge.fit(a, b)\n",
    "\n",
    "print(ridge.coef_)\n",
    "print(np.linalg.norm(a @ ridge.coef_ - b))"
   ],
   "metadata": {
    "collapsed": false
   }
  }
 ],
 "metadata": {
  "kernelspec": {
   "display_name": "Python 3",
   "language": "python",
   "name": "python3"
  },
  "language_info": {
   "codemirror_mode": {
    "name": "ipython",
    "version": 2
   },
   "file_extension": ".py",
   "mimetype": "text/x-python",
   "name": "python",
   "nbconvert_exporter": "python",
   "pygments_lexer": "ipython2",
   "version": "2.7.6"
  }
 },
 "nbformat": 4,
 "nbformat_minor": 0
}
