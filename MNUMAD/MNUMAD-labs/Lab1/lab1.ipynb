{
 "cells": [
  {
   "cell_type": "code",
   "execution_count": 20,
   "outputs": [],
   "source": [
    "import numpy as np\n",
    "import scipy as sp\n",
    "from sklearn.linear_model import LinearRegression\n",
    "\n",
    "m, n = 10, 5"
   ],
   "metadata": {
    "collapsed": false
   }
  },
  {
   "cell_type": "markdown",
   "source": [
    "1) Zrobić macierz losową (m x n)"
   ],
   "metadata": {
    "collapsed": false
   }
  },
  {
   "cell_type": "code",
   "execution_count": 12,
   "outputs": [
    {
     "data": {
      "text/plain": "array([[0.38143834, 0.73599172, 0.25737027, 0.88714986, 0.82742029],\n       [0.5477197 , 0.43152743, 0.83901085, 0.41379719, 0.8465995 ],\n       [0.98512251, 0.04017316, 0.05208958, 0.04657075, 0.79289226],\n       [0.16964752, 0.32109904, 0.55795555, 0.22797135, 0.85820644],\n       [0.5960733 , 0.84203496, 0.44258275, 0.71388685, 0.50538886],\n       [0.92913266, 0.61745847, 0.84281964, 0.70576884, 0.86054779],\n       [0.52468651, 0.05940487, 0.58703495, 0.33435993, 0.80692396],\n       [0.92117194, 0.9284225 , 0.45475997, 0.61809784, 0.9514383 ],\n       [0.62937013, 0.5394548 , 0.83784777, 0.77220254, 0.16911774],\n       [0.39809959, 0.95167265, 0.38716552, 0.9859355 , 0.30078532]])"
     },
     "execution_count": 12,
     "metadata": {},
     "output_type": "execute_result"
    }
   ],
   "source": [
    "A = np.random.rand(m, n)\n",
    "A"
   ],
   "metadata": {
    "collapsed": false
   }
  },
  {
   "cell_type": "markdown",
   "source": [
    "2) Zrobić losowy wektor b (m)"
   ],
   "metadata": {
    "collapsed": false
   }
  },
  {
   "cell_type": "code",
   "execution_count": 13,
   "outputs": [
    {
     "data": {
      "text/plain": "array([0.11575458, 0.00209254, 0.41784421, 0.84106042, 0.93837331,\n       0.13342442, 0.8817706 , 0.12353002, 0.83667992, 0.72918758])"
     },
     "execution_count": 13,
     "metadata": {},
     "output_type": "execute_result"
    }
   ],
   "source": [
    "b = np.random.rand(m)\n",
    "b"
   ],
   "metadata": {
    "collapsed": false
   }
  },
  {
   "cell_type": "markdown",
   "source": [
    "3) Rozwiązać układ $||b - Ax||_2 \\to min!$"
   ],
   "metadata": {
    "collapsed": false
   }
  },
  {
   "cell_type": "code",
   "execution_count": 14,
   "outputs": [
    {
     "data": {
      "text/plain": "(array([ 0.07239675, -0.43613981,  0.3186715 ,  0.7395879 ,  0.07156889]),\n array([], dtype=float64))"
     },
     "execution_count": 14,
     "metadata": {},
     "output_type": "execute_result"
    }
   ],
   "source": [
    "x, r, _, _ = sp.linalg.lstsq(A, b, lapack_driver='gelsy')\n",
    "x, r"
   ],
   "metadata": {
    "collapsed": false
   }
  },
  {
   "cell_type": "markdown",
   "source": [
    "Rozwiązać układ równań $A^TAx = A^Tb$"
   ],
   "metadata": {
    "collapsed": false
   }
  },
  {
   "cell_type": "code",
   "execution_count": 15,
   "outputs": [
    {
     "data": {
      "text/plain": "(array([ 0.07239675, -0.43613981,  0.3186715 ,  0.7395879 ,  0.07156889]),\n 1.2718219415729095)"
     },
     "execution_count": 15,
     "metadata": {},
     "output_type": "execute_result"
    }
   ],
   "source": [
    "B = A.T @ A\n",
    "b_d = A.T @ b\n",
    "\n",
    "L = np.linalg.cholesky(B)\n",
    "y = np.linalg.solve(L, b_d)\n",
    "x_f = np.linalg.solve(L.T, y)\n",
    "r_f = np.linalg.norm(b - A @ x_f)\n",
    "\n",
    "x_f, r_f"
   ],
   "metadata": {
    "collapsed": false
   }
  },
  {
   "cell_type": "code",
   "execution_count": 16,
   "outputs": [],
   "source": [
    "Q, R = np.linalg.qr(A)"
   ],
   "metadata": {
    "collapsed": false
   }
  },
  {
   "cell_type": "code",
   "execution_count": 18,
   "outputs": [
    {
     "data": {
      "text/plain": "(array([ 0.07239675, -0.43613981,  0.3186715 ,  0.7395879 ,  0.07156889]),\n 1.2718219415729095)"
     },
     "execution_count": 18,
     "metadata": {},
     "output_type": "execute_result"
    }
   ],
   "source": [
    "b_f = Q.T @ b\n",
    "x_f = np.linalg.solve(R, b_f)\n",
    "r_f = np.linalg.norm(b - A @ x_f)\n",
    "x_f, r_f"
   ],
   "metadata": {
    "collapsed": false
   }
  },
  {
   "cell_type": "code",
   "execution_count": 50,
   "outputs": [
    {
     "data": {
      "text/plain": "1.2718219415729093"
     },
     "execution_count": 50,
     "metadata": {},
     "output_type": "execute_result"
    }
   ],
   "source": [
    "reg = LinearRegression(fit_intercept=False)\n",
    "model = reg.fit(A, b)\n",
    "model.coef_\n",
    "\n",
    "r = np.linalg.norm(b - A @ model.coef_)\n",
    "r"
   ],
   "metadata": {
    "collapsed": false
   }
  }
 ],
 "metadata": {
  "kernelspec": {
   "display_name": "Python 3",
   "language": "python",
   "name": "python3"
  },
  "language_info": {
   "codemirror_mode": {
    "name": "ipython",
    "version": 2
   },
   "file_extension": ".py",
   "mimetype": "text/x-python",
   "name": "python",
   "nbconvert_exporter": "python",
   "pygments_lexer": "ipython2",
   "version": "2.7.6"
  }
 },
 "nbformat": 4,
 "nbformat_minor": 0
}
