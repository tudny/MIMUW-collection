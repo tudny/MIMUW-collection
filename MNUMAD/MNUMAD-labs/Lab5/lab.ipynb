{
 "cells": [
  {
   "cell_type": "markdown",
   "source": [
    "Cel na dziś:\n",
    "(*) $||b - Ax||_2 -> min!$\n",
    "LSQR - metoda najmniejszych kwadratów\n",
    "CGNR - metoda najmniejszych kwadratów z regularyzacją\n",
    "\n",
    "$A^TAx = A^Tb$\n",
    "\n",
    "(**) $||b-Py||_2 -> min!$\n",
    "\n",
    "$x = Py$, $P$ - niepełny rozkład Choleskiego macierzy $A^T A$\n",
    "\n",
    "\n",
    "1) wygenerować rozrzedzoną macierz A: $M\\times N$\n",
    "2) rozwiązać (*) metodą CGNR, LSQR\n",
    "3) rozwiązać (**) metodą j.w.\n",
    "    dla $P$ - niepełny rozkład Choleskiego macierzy $A^TA$\n",
    "4) porównać szybkość zbieżności"
   ],
   "metadata": {
    "collapsed": false
   }
  },
  {
   "cell_type": "code",
   "execution_count": 557,
   "outputs": [],
   "source": [
    "import scipy.sparse as sp\n",
    "import numpy as np\n",
    "\n",
    "N = 7\n",
    "M = 10\n",
    "density = 0.5\n",
    "\n",
    "A = sp.rand(M, N, density=density)\n",
    "\n",
    "b = np.random.rand(M)"
   ],
   "metadata": {
    "collapsed": false
   }
  },
  {
   "cell_type": "code",
   "execution_count": 558,
   "outputs": [],
   "source": [
    "# A.todense(), b"
   ],
   "metadata": {
    "collapsed": false
   }
  },
  {
   "cell_type": "code",
   "execution_count": 559,
   "outputs": [
    {
     "data": {
      "text/plain": "(1.5176226162857613e-10, 1.2752206030012304e-10, 2.4240202540507337e-11)"
     },
     "execution_count": 559,
     "metadata": {},
     "output_type": "execute_result"
    }
   ],
   "source": [
    "from scipy.sparse.linalg import cg, LinearOperator, lsqr\n",
    "from numpy.linalg import lstsq\n",
    "from numpy.linalg import norm\n",
    "\n",
    "def atax(x):\n",
    "    return A.T @ (A @ x)\n",
    "\n",
    "# Run cg with LinearOperator on `normal`\n",
    "x_cg, _ = cg(LinearOperator(shape=(N, N), matvec=atax), A.T @ b)\n",
    "\n",
    "# Run lsqr with LinearOperator on `normal`\n",
    "x_lsqr = lsqr(A, b)[0]\n",
    "\n",
    "# Run lstsq\n",
    "x_lstsq = lstsq(A.todense(), b, rcond=None)[0]\n",
    "\n",
    "norm(x_lsqr - x_cg), norm(x_lsqr - x_lstsq), norm(x_cg - x_lstsq)\n",
    "# x_cg, x_lsqr, x_lstsq"
   ],
   "metadata": {
    "collapsed": false
   }
  },
  {
   "cell_type": "markdown",
   "source": [
    "3a) Wyznaczyć $P$\n",
    "\n",
    "$P^{T} A^{T} A P x = P^{T} A^{T} b$\n",
    "\n",
    "3b) $C_L$ = LinearOperator(....)\n",
    "matvec: $P^{T} (A^{T} (A (P x)))$\n",
    "\n",
    "3c) x = cg(C_{L}, ...)[0]"
   ],
   "metadata": {
    "collapsed": false
   }
  },
  {
   "cell_type": "code",
   "execution_count": 560,
   "outputs": [
    {
     "data": {
      "text/plain": "(1.3514941186233203, 1.3514941186939367, 1.3514941186345972)"
     },
     "execution_count": 560,
     "metadata": {},
     "output_type": "execute_result"
    }
   ],
   "source": [
    "from scipy.sparse.linalg import spilu, spsolve_triangular\n",
    "from scipy.sparse import diags\n",
    "\n",
    "def chol(A):\n",
    "    res = spilu(A)\n",
    "    return res.L, res.U\n",
    "\n",
    "L, U = chol(A.T @ A)\n",
    "D = diags(np.sqrt(U.diagonal()))\n",
    "L_dash = L @ D\n",
    "\n",
    "def latalx(x):\n",
    "    t = spsolve_triangular(L_dash.T, x, lower=False)\n",
    "    t = A @ t\n",
    "    t = A.T @ t\n",
    "    t = spsolve_triangular(L_dash, t, lower=True)\n",
    "    return t\n",
    "\n",
    "def latb():\n",
    "    t = A.T @ b\n",
    "    t = spsolve_triangular(L_dash, t, lower=True)\n",
    "    return t\n",
    "\n",
    "x_cg_uber_fajne, _ = cg(LinearOperator(shape=(N, N), matvec=latalx), latb())\n",
    "\n",
    "norm(x_cg_uber_fajne - x_cg), norm(x_cg_uber_fajne - x_lsqr), norm(x_cg_uber_fajne - x_lstsq)"
   ],
   "metadata": {
    "collapsed": false
   }
  }
 ],
 "metadata": {
  "kernelspec": {
   "display_name": "Python 3",
   "language": "python",
   "name": "python3"
  },
  "language_info": {
   "codemirror_mode": {
    "name": "ipython",
    "version": 2
   },
   "file_extension": ".py",
   "mimetype": "text/x-python",
   "name": "python",
   "nbconvert_exporter": "python",
   "pygments_lexer": "ipython2",
   "version": "2.7.6"
  }
 },
 "nbformat": 4,
 "nbformat_minor": 0
}
