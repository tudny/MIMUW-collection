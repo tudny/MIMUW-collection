{
 "cells": [
  {
   "cell_type": "code",
   "execution_count": null,
   "outputs": [],
   "source": [
    "import Bio.SeqIO\n",
    "\n",
    "FILE_NAME = \"data/yeast.fa\"\n",
    "\n",
    "\n",
    "def kmers(s: list, k: int) -> set:\n",
    "    return set([s[i : i + k] for i in range(len(s) - k + 1)])\n",
    "\n",
    "\n",
    "def check(seqs: list, k: int):\n",
    "    seqs_as_kmers = list(map(lambda seq: kmers(seq, k), seqs))\n",
    "    all_unique_kmers = set()\n",
    "    all_kmers = set()\n",
    "    for seq_kmers in seqs_as_kmers:\n",
    "        all_unique_kmers = (all_unique_kmers - seq_kmers) | (seq_kmers - all_kmers)\n",
    "        all_kmers = all_kmers | seq_kmers\n",
    "\n",
    "    def match(seq):\n",
    "        inter = seq & all_unique_kmers\n",
    "        if len(inter) > 0:\n",
    "            return next(iter(inter))\n",
    "        else:\n",
    "            return None\n",
    "\n",
    "    possible_matches = [match(seq) for seq in seqs_as_kmers]\n",
    "    solution = list(\n",
    "        filter(lambda maybe_match: maybe_match is not None, possible_matches)\n",
    "    )\n",
    "    if len(solution) == len(seqs):\n",
    "        return solution\n",
    "    else:\n",
    "        return None\n",
    "\n",
    "\n",
    "def binary_serach_naive(seqs: list):\n",
    "    begin = 0\n",
    "    end = min([len(seq) for seq in seqs]) + 1\n",
    "    saved_solution = None\n",
    "    while end - begin > 1:\n",
    "        k = (begin + end) // 2\n",
    "        print(f\"Checking {k=}\")\n",
    "        maybe_solution = check(seqs, k)\n",
    "        if maybe_solution:\n",
    "            end = k\n",
    "            saved_solution = maybe_solution\n",
    "        else:\n",
    "            begin = k\n",
    "    return end, saved_solution\n",
    "\n",
    "\n",
    "seqs = [\n",
    "    record.reverse_complement().seq for record in Bio.SeqIO.parse(FILE_NAME, \"fasta\")\n",
    "]\n",
    "min_k, solution = binary_serach_naive(seqs)\n",
    "if solution is None:\n",
    "    print(f\"No solution found.\")\n",
    "else:\n",
    "    print(f\"Best {min_k=} and sequence is {solution=}.\")"
   ],
   "metadata": {
    "collapsed": false
   }
  }
 ],
 "metadata": {
  "kernelspec": {
   "display_name": "Python 3",
   "language": "python",
   "name": "python3"
  },
  "language_info": {
   "codemirror_mode": {
    "name": "ipython",
    "version": 2
   },
   "file_extension": ".py",
   "mimetype": "text/x-python",
   "name": "python",
   "nbconvert_exporter": "python",
   "pygments_lexer": "ipython2",
   "version": "2.7.6"
  }
 },
 "nbformat": 4,
 "nbformat_minor": 0
}
