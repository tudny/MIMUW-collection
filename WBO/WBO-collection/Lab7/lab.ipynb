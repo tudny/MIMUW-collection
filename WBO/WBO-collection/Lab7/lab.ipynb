{
 "cells": [
  {
   "cell_type": "code",
   "execution_count": 4,
   "metadata": {
    "collapsed": true,
    "ExecuteTime": {
     "start_time": "2023-04-20T13:07:07.872602Z",
     "end_time": "2023-04-20T13:10:38.618701Z"
    }
   },
   "outputs": [
    {
     "name": "stdout",
     "output_type": "stream",
     "text": [
      "[[0.2475     0.2475     0.2475     0.2475     0.0025     0.0025\n",
      "  0.0025     0.0025    ]\n",
      " [0.2475     0.2475     0.2475     0.2475     0.0025     0.0025\n",
      "  0.0025     0.0025    ]\n",
      " [0.2475     0.2475     0.2475     0.2475     0.0025     0.0025\n",
      "  0.0025     0.0025    ]\n",
      " [0.2475     0.2475     0.2475     0.2475     0.0025     0.0025\n",
      "  0.0025     0.0025    ]\n",
      " [0.0025     0.0025     0.0025     0.0025     0.2475     0.2475\n",
      "  0.2475     0.2475    ]\n",
      " [0.0025     0.0025     0.0025     0.0025     0.19666667 0.19666667\n",
      "  0.4        0.19666667]\n",
      " [0.0025     0.0025     0.0025     0.0025     0.2475     0.2475\n",
      "  0.2475     0.2475    ]\n",
      " [0.0025     0.0025     0.0025     0.0025     0.2475     0.2475\n",
      "  0.2475     0.2475    ]]\n",
      "0.4\n",
      "0.19666666666666666\n",
      "0.19666666666666666\n",
      "0.19666666666666666\n"
     ]
    },
    {
     "data": {
      "text/plain": "CategoricalHMM(init_params='', n_components=8,\n               random_state=RandomState(MT19937) at 0x7F09F4138640)",
      "text/html": "<style>#sk-container-id-2 {color: black;background-color: white;}#sk-container-id-2 pre{padding: 0;}#sk-container-id-2 div.sk-toggleable {background-color: white;}#sk-container-id-2 label.sk-toggleable__label {cursor: pointer;display: block;width: 100%;margin-bottom: 0;padding: 0.3em;box-sizing: border-box;text-align: center;}#sk-container-id-2 label.sk-toggleable__label-arrow:before {content: \"▸\";float: left;margin-right: 0.25em;color: #696969;}#sk-container-id-2 label.sk-toggleable__label-arrow:hover:before {color: black;}#sk-container-id-2 div.sk-estimator:hover label.sk-toggleable__label-arrow:before {color: black;}#sk-container-id-2 div.sk-toggleable__content {max-height: 0;max-width: 0;overflow: hidden;text-align: left;background-color: #f0f8ff;}#sk-container-id-2 div.sk-toggleable__content pre {margin: 0.2em;color: black;border-radius: 0.25em;background-color: #f0f8ff;}#sk-container-id-2 input.sk-toggleable__control:checked~div.sk-toggleable__content {max-height: 200px;max-width: 100%;overflow: auto;}#sk-container-id-2 input.sk-toggleable__control:checked~label.sk-toggleable__label-arrow:before {content: \"▾\";}#sk-container-id-2 div.sk-estimator input.sk-toggleable__control:checked~label.sk-toggleable__label {background-color: #d4ebff;}#sk-container-id-2 div.sk-label input.sk-toggleable__control:checked~label.sk-toggleable__label {background-color: #d4ebff;}#sk-container-id-2 input.sk-hidden--visually {border: 0;clip: rect(1px 1px 1px 1px);clip: rect(1px, 1px, 1px, 1px);height: 1px;margin: -1px;overflow: hidden;padding: 0;position: absolute;width: 1px;}#sk-container-id-2 div.sk-estimator {font-family: monospace;background-color: #f0f8ff;border: 1px dotted black;border-radius: 0.25em;box-sizing: border-box;margin-bottom: 0.5em;}#sk-container-id-2 div.sk-estimator:hover {background-color: #d4ebff;}#sk-container-id-2 div.sk-parallel-item::after {content: \"\";width: 100%;border-bottom: 1px solid gray;flex-grow: 1;}#sk-container-id-2 div.sk-label:hover label.sk-toggleable__label {background-color: #d4ebff;}#sk-container-id-2 div.sk-serial::before {content: \"\";position: absolute;border-left: 1px solid gray;box-sizing: border-box;top: 0;bottom: 0;left: 50%;z-index: 0;}#sk-container-id-2 div.sk-serial {display: flex;flex-direction: column;align-items: center;background-color: white;padding-right: 0.2em;padding-left: 0.2em;position: relative;}#sk-container-id-2 div.sk-item {position: relative;z-index: 1;}#sk-container-id-2 div.sk-parallel {display: flex;align-items: stretch;justify-content: center;background-color: white;position: relative;}#sk-container-id-2 div.sk-item::before, #sk-container-id-2 div.sk-parallel-item::before {content: \"\";position: absolute;border-left: 1px solid gray;box-sizing: border-box;top: 0;bottom: 0;left: 50%;z-index: -1;}#sk-container-id-2 div.sk-parallel-item {display: flex;flex-direction: column;z-index: 1;position: relative;background-color: white;}#sk-container-id-2 div.sk-parallel-item:first-child::after {align-self: flex-end;width: 50%;}#sk-container-id-2 div.sk-parallel-item:last-child::after {align-self: flex-start;width: 50%;}#sk-container-id-2 div.sk-parallel-item:only-child::after {width: 0;}#sk-container-id-2 div.sk-dashed-wrapped {border: 1px dashed gray;margin: 0 0.4em 0.5em 0.4em;box-sizing: border-box;padding-bottom: 0.4em;background-color: white;}#sk-container-id-2 div.sk-label label {font-family: monospace;font-weight: bold;display: inline-block;line-height: 1.2em;}#sk-container-id-2 div.sk-label-container {text-align: center;}#sk-container-id-2 div.sk-container {/* jupyter's `normalize.less` sets `[hidden] { display: none; }` but bootstrap.min.css set `[hidden] { display: none !important; }` so we also need the `!important` here to be able to override the default hidden behavior on the sphinx rendered scikit-learn.org. See: https://github.com/scikit-learn/scikit-learn/issues/21755 */display: inline-block !important;position: relative;}#sk-container-id-2 div.sk-text-repr-fallback {display: none;}</style><div id=\"sk-container-id-2\" class=\"sk-top-container\"><div class=\"sk-text-repr-fallback\"><pre>CategoricalHMM(init_params=&#x27;&#x27;, n_components=8,\n               random_state=RandomState(MT19937) at 0x7F09F4138640)</pre><b>In a Jupyter environment, please rerun this cell to show the HTML representation or trust the notebook. <br />On GitHub, the HTML representation is unable to render, please try loading this page with nbviewer.org.</b></div><div class=\"sk-container\" hidden><div class=\"sk-item\"><div class=\"sk-estimator sk-toggleable\"><input class=\"sk-toggleable__control sk-hidden--visually\" id=\"sk-estimator-id-2\" type=\"checkbox\" checked><label for=\"sk-estimator-id-2\" class=\"sk-toggleable__label sk-toggleable__label-arrow\">CategoricalHMM</label><div class=\"sk-toggleable__content\"><pre>CategoricalHMM(init_params=&#x27;&#x27;, n_components=8,\n               random_state=RandomState(MT19937) at 0x7F09F4138640)</pre></div></div></div></div></div>"
     },
     "execution_count": 4,
     "metadata": {},
     "output_type": "execute_result"
    }
   ],
   "source": [
    "import hmmlearn.hmm as hmm\n",
    "import numpy as np\n",
    "from Bio import SeqIO\n",
    "\n",
    "# Dziś na wykładzie omówimy ukryte modele Markowa i algorytmy rekonstrukcji parametrów z danych.\n",
    "#\n",
    "# Zadania na dziś:\n",
    "\n",
    "# 0. Zapoznaj się z modułem hmmlearn. Będziemy go wykorzystywać do uczenia modeli z emisjami\n",
    "\n",
    "# 1. Wyspy CpG znajdują się często w genomach, w szczególności genomie ludzkim. Spróbuj zdefiniować ukryty model\n",
    "# Markowa, który ma 2 stany i spróbuj nauczyć go na sekwncji zawartej w pliku cpg.fa. Zrób to zarówno dla sekwencji\n",
    "# liter (ACGT), jak i dla sekwencji dwunukleotydów (AA,AC,AG,AT, itp…) Czy możesz zinterpretować macierze emisji i\n",
    "# przypisać jeden ze stanów do wysp CpG? Wykonaj kilkakrotnie proces uczenia (Baum-Welch) i zobacz czy wyniki są\n",
    "# podobne. Jak interpretujesz prawdopodobieństwa w macierzy przejść. Czy coś możesz powiedzieć o średniej długości\n",
    "# wysp CpG?\n",
    "#\n",
    "# Warto przyjrzeć się przykładowi użycia klasy CategoricalHMM\n",
    "\n",
    "\n",
    "def dna_to_ordinal(dna: str) -> int:\n",
    "    return {\"A\": 0, \"C\": 1, \"G\": 2, \"T\": 3}[dna]\n",
    "\n",
    "\n",
    "full_training_seq = SeqIO.read(\"data/cpg.fa\", \"fasta\").seq\n",
    "# full_training_seq = full_training_seq[:1000]    # TODO: remove this line after testing\n",
    "full_training_seq = [dna_to_ordinal(dna) for dna in full_training_seq]\n",
    "\n",
    "# Weźmy 8 stanów ukrytych i 4 emisje (A, C, G, T)\n",
    "# Stany podzielimy na dwie kategorie - nie-CpG i CpG - po cztery stany w każdej kategorii\n",
    "# Pierwszy kategoria, nie-CpG, będzie miała stany 0, 1, 2, 3\n",
    "# Druga kategoria, CpG, będzie miała stany 4, 5, 6, 7\n",
    "# Emisje będą odpowiadały literom A, C, G, T\n",
    "\n",
    "p_state_switch = 0.01\n",
    "p4 = (1 - p_state_switch) / 4\n",
    "ps4 = p_state_switch / 4\n",
    "p_cg = 0.4\n",
    "ps4_cg = p_state_switch / 4\n",
    "p4_cg = (1 - p_state_switch - p_cg) / 3\n",
    "\n",
    "states_matrix = np.array(\n",
    "    [\n",
    "        # (nCpG)  A   C   G   T  | (CpG)  A    C    G    T\n",
    "        [p4, p4, p4, p4, ps4, ps4, ps4, ps4],\n",
    "        [p4, p4, p4, p4, ps4, ps4, ps4, ps4],\n",
    "        [p4, p4, p4, p4, ps4, ps4, ps4, ps4],\n",
    "        [p4, p4, p4, p4, ps4, ps4, ps4, ps4],\n",
    "        [ps4, ps4, ps4, ps4, p4, p4, p4, p4],\n",
    "        [ps4_cg, ps4_cg, ps4_cg, ps4_cg, p4_cg, p4_cg, p_cg, p4_cg],\n",
    "        [ps4, ps4, ps4, ps4, p4, p4, p4, p4],\n",
    "        [ps4, ps4, ps4, ps4, p4, p4, p4, p4],\n",
    "    ]\n",
    ")\n",
    "\n",
    "print(states_matrix)\n",
    "\n",
    "print(states_matrix[dna_to_ordinal(\"C\") + 4, dna_to_ordinal(\"G\") + 4])\n",
    "print(states_matrix[dna_to_ordinal(\"C\") + 4, dna_to_ordinal(\"A\") + 4])\n",
    "print(states_matrix[dna_to_ordinal(\"C\") + 4, dna_to_ordinal(\"C\") + 4])\n",
    "print(states_matrix[dna_to_ordinal(\"C\") + 4, dna_to_ordinal(\"T\") + 4])\n",
    "\n",
    "emissions_matrix = np.array(\n",
    "    [\n",
    "        # A  C  G  T\n",
    "        [1, 0, 0, 0],\n",
    "        [0, 1, 0, 0],\n",
    "        [0, 0, 1, 0],\n",
    "        [0, 0, 0, 1],\n",
    "        [1, 0, 0, 0],\n",
    "        [0, 1, 0, 0],\n",
    "        [0, 0, 1, 0],\n",
    "        [0, 0, 0, 1],\n",
    "    ]\n",
    ")\n",
    "\n",
    "cpg_dna_hmm = hmm.CategoricalHMM(n_components=8, init_params=\"\")\n",
    "cpg_dna_hmm.n_features_ = 4\n",
    "# cpg_dna_hmm.startprob_ = np.array([0.125] * 8)\n",
    "cpg_dna_hmm.transmat_ = states_matrix\n",
    "cpg_dna_hmm.emissionprob_ = emissions_matrix\n",
    "\n",
    "\n",
    "training_reshaped = np.array(full_training_seq).reshape(1, -1)\n",
    "cpg_dna_hmm.fit(training_reshaped)"
   ]
  },
  {
   "cell_type": "code",
   "execution_count": 10,
   "outputs": [
    {
     "name": "stdout",
     "output_type": "stream",
     "text": [
      "0.5529545303516914\n",
      "0.14098975406995495\n",
      "0.16504364879096567\n",
      "0.1409474299427797\n",
      "[[2.49469529e-01 2.50988774e-01 2.50325351e-01 2.49126343e-01\n",
      "  1.97036814e-05 2.63165996e-05 1.68420305e-05 2.71402099e-05]\n",
      " [2.50677215e-01 2.48491056e-01 2.49747686e-01 2.50951380e-01\n",
      "  2.21405980e-05 3.30408103e-05 3.44267232e-05 4.30554123e-05]\n",
      " [2.50136689e-01 2.50727085e-01 2.49532915e-01 2.49517409e-01\n",
      "  1.54387358e-05 2.74964644e-05 1.49111180e-05 2.80544125e-05]\n",
      " [2.50316410e-01 2.48430818e-01 2.50867609e-01 2.50269806e-01\n",
      "  3.36010405e-05 4.12268905e-05 2.00577982e-05 2.04709656e-05]\n",
      " [2.48141954e-05 2.45455321e-05 1.82200442e-05 2.21799902e-05\n",
      "  1.99473168e-01 4.00368342e-01 2.00616919e-01 1.99451811e-01]\n",
      " [1.12115660e-05 2.06644647e-05 2.04153384e-05 1.23454755e-05\n",
      "  1.40989754e-01 1.65043649e-01 5.52954530e-01 1.40947430e-01]\n",
      " [1.81464705e-05 1.79291775e-05 1.92541236e-05 1.91800192e-05\n",
      "  2.00119146e-01 3.99935933e-01 2.00081688e-01 1.99788724e-01]\n",
      " [1.89536982e-05 3.39956888e-05 2.07920104e-05 2.47970612e-05\n",
      "  1.99439302e-01 4.00456796e-01 1.99321528e-01 2.00683835e-01]]\n",
      "[[1. 0. 0. 0.]\n",
      " [0. 1. 0. 0.]\n",
      " [0. 0. 1. 0.]\n",
      " [0. 0. 0. 1.]\n",
      " [1. 0. 0. 0.]\n",
      " [0. 1. 0. 0.]\n",
      " [0. 0. 1. 0.]\n",
      " [0. 0. 0. 1.]]\n",
      "[0.00000000e+00 0.00000000e+00 1.00000000e+00 0.00000000e+00\n",
      " 0.00000000e+00 0.00000000e+00 1.23981893e-20 0.00000000e+00]\n",
      "Sequence: Seq 0 testing cpg islands | Ratio: 1.0000 | CpG island\n",
      "Sequence: Seq 1 testing cpg islands | Ratio: 1.0000 | CpG island\n",
      "Sequence: Seq 2 testing cpg islands | Ratio: 1.0000 | CpG island\n",
      "Sequence: Seq 3 testing cpg islands | Ratio: 1.0000 | CpG island\n",
      "Sequence: Seq 4 testing cpg islands | Ratio: 1.0000 | CpG island\n",
      "Sequence: Seq 5 testing cpg islands | Ratio: 1.0000 | CpG island\n",
      "Sequence: Seq 6 testing cpg islands | Ratio: 1.0000 | CpG island\n",
      "Sequence: Seq 7 testing cpg islands | Ratio: 0.0000 | Not CpG island\n",
      "Sequence: Seq 8 testing cpg islands | Ratio: 0.0000 | Not CpG island\n",
      "Sequence: Seq 9 testing cpg islands | Ratio: 0.0000 | Not CpG island\n",
      "Sequence: Seq 10 testing cpg islands | Ratio: 1.0000 | CpG island\n",
      "Sequence: Seq 11 testing cpg islands | Ratio: 1.0000 | CpG island\n",
      "Sequence: Seq 12 testing cpg islands | Ratio: 1.0000 | CpG island\n",
      "Sequence: Seq 13 testing cpg islands | Ratio: 1.0000 | CpG island\n",
      "Sequence: Seq 14 testing cpg islands | Ratio: 0.0000 | Not CpG island\n",
      "Sequence: Seq 15 testing cpg islands | Ratio: 0.0000 | Not CpG island\n",
      "Sequence: Seq 16 testing cpg islands | Ratio: 0.0000 | Not CpG island\n",
      "Sequence: Seq 17 testing cpg islands | Ratio: 1.0000 | CpG island\n",
      "Sequence: Seq 18 testing cpg islands | Ratio: 1.0000 | CpG island\n",
      "Sequence: Seq 19 testing cpg islands | Ratio: 0.0000 | Not CpG island\n",
      "Sequence: Seq 20 testing cpg islands | Ratio: 1.0000 | CpG island\n",
      "Sequence: Seq 21 testing cpg islands | Ratio: 0.0000 | Not CpG island\n",
      "Sequence: Seq 22 testing cpg islands | Ratio: 0.0000 | Not CpG island\n",
      "Sequence: Seq 23 testing cpg islands | Ratio: 1.0000 | CpG island\n",
      "Sequence: Seq 24 testing cpg islands | Ratio: 1.0000 | CpG island\n",
      "Sequence: Seq 25 testing cpg islands | Ratio: 0.0000 | Not CpG island\n",
      "Sequence: Seq 26 testing cpg islands | Ratio: 0.0000 | Not CpG island\n",
      "Sequence: Seq 27 testing cpg islands | Ratio: 1.0000 | CpG island\n",
      "Sequence: Seq 28 testing cpg islands | Ratio: 0.0000 | Not CpG island\n",
      "Sequence: Seq 29 testing cpg islands | Ratio: 0.0000 | Not CpG island\n"
     ]
    }
   ],
   "source": [
    "print(cpg_dna_hmm.transmat_[dna_to_ordinal(\"C\") + 4, dna_to_ordinal(\"G\") + 4])\n",
    "print(cpg_dna_hmm.transmat_[dna_to_ordinal(\"C\") + 4, dna_to_ordinal(\"A\") + 4])\n",
    "print(cpg_dna_hmm.transmat_[dna_to_ordinal(\"C\") + 4, dna_to_ordinal(\"C\") + 4])\n",
    "print(cpg_dna_hmm.transmat_[dna_to_ordinal(\"C\") + 4, dna_to_ordinal(\"T\") + 4])\n",
    "\n",
    "print(cpg_dna_hmm.transmat_)\n",
    "print(cpg_dna_hmm.emissionprob_)\n",
    "print(cpg_dna_hmm.startprob_)\n",
    "cpg_dna_hmm.startprob_ = np.array([0.125] * 8)\n",
    "\n",
    "training_reshaped = np.array(full_training_seq[:1000]).reshape(1, -1)\n",
    "result = cpg_dna_hmm.decode(training_reshaped)\n",
    "# print(result)\n",
    "\n",
    "# 2. czasami potrzebujemy użyć łańcuchów Markowa do segmentacji sygnału. Weźmy przykładowy plik – dane o methylacji\n",
    "# histonów w rzodkiewniku (H3K9me2-crh6-3-chr1.sgr) zawierający poziom metylacji w różnych pozycjach (plik jest\n",
    "# tekstowy, każda linia zawiera informacje o pozycji i wartośći). Wykorzystaj HMM z emisjami Gaussowskimi do\n",
    "# segmentacji genomu na 2 lub 3 stany. Jakie są wyestymowane wartości średnie dla różnych stanów? Przykład\n",
    "# wykorzystania HMMów z emisjami Gaussowskimi można znaleźć tu\n",
    "\n",
    "# praca domowa (2 pkt):\n",
    "#\n",
    "# Wykorzystaj model nauczony na danych o CpG i przetestuj które z 30 sekwencji w pliku cpg_test.fa są naprawdę\n",
    "# wyspami CpG. Jako wynik proszę przysłać program w pythonie i wynik w pliku tekstowym (w każdej linii możemy podać\n",
    "# parawdopodobieństwo a'posteriori tego, że dana sekwencja z wejścia pochodzi z modelu CpG).\n",
    "\n",
    "request_seqs = SeqIO.parse(\"data/cpg_test.fa\", \"fasta\")\n",
    "\n",
    "\n",
    "def map_to_cpg_state(state: int) -> int:\n",
    "    if state in [0, 1, 2, 3]:\n",
    "        return 0\n",
    "    elif state in [4, 5, 6, 7]:\n",
    "        return 1\n",
    "    else:\n",
    "        raise ValueError(f\"Unknown state: {state}\")\n",
    "\n",
    "\n",
    "def count_cpg(states: [int]) -> int:\n",
    "    assert all(map(lambda s: s in [0, 1], states))\n",
    "    return sum(states)\n",
    "\n",
    "\n",
    "for req_seq in request_seqs:\n",
    "    req_name = req_seq.description\n",
    "    req_seq = req_seq.seq\n",
    "    req_seq = [dna_to_ordinal(dna) for dna in req_seq]\n",
    "    req_seq = np.array(req_seq).reshape(1, -1)\n",
    "    result = cpg_dna_hmm.decode(req_seq)\n",
    "    # print(result)\n",
    "    res_len = len(result[1])\n",
    "    cpg_states = [map_to_cpg_state(state) for state in result[1]]\n",
    "    cpg_count = count_cpg(cpg_states)\n",
    "    cpg_ratio = cpg_count / res_len\n",
    "    is_cpg = cpg_ratio > 0.5\n",
    "    print(\n",
    "        f\"Sequence: {req_name} \"\n",
    "        f\"| Ratio: {cpg_ratio:.4f} \"\n",
    "        f\"| {'CpG island' if cpg_ratio > 0.5 else 'Not CpG island'}\"\n",
    "    )"
   ],
   "metadata": {
    "collapsed": false,
    "ExecuteTime": {
     "start_time": "2023-04-20T13:23:15.118970Z",
     "end_time": "2023-04-20T13:23:15.246192Z"
    }
   }
  },
  {
   "cell_type": "code",
   "execution_count": 11,
   "outputs": [
    {
     "data": {
      "text/plain": "array([0.125, 0.125, 0.125, 0.125, 0.125, 0.125, 0.125, 0.125])"
     },
     "execution_count": 11,
     "metadata": {},
     "output_type": "execute_result"
    }
   ],
   "source": [
    "cpg_dna_hmm.startprob_"
   ],
   "metadata": {
    "collapsed": false,
    "ExecuteTime": {
     "start_time": "2023-04-20T13:23:44.861506Z",
     "end_time": "2023-04-20T13:23:44.908221Z"
    }
   }
  },
  {
   "cell_type": "code",
   "execution_count": 12,
   "outputs": [
    {
     "data": {
      "text/plain": "array([[1., 0., 0., 0.],\n       [0., 1., 0., 0.],\n       [0., 0., 1., 0.],\n       [0., 0., 0., 1.],\n       [1., 0., 0., 0.],\n       [0., 1., 0., 0.],\n       [0., 0., 1., 0.],\n       [0., 0., 0., 1.]])"
     },
     "execution_count": 12,
     "metadata": {},
     "output_type": "execute_result"
    }
   ],
   "source": [
    "cpg_dna_hmm.emissionprob_"
   ],
   "metadata": {
    "collapsed": false,
    "ExecuteTime": {
     "start_time": "2023-04-20T13:23:46.603461Z",
     "end_time": "2023-04-20T13:23:46.613701Z"
    }
   }
  },
  {
   "cell_type": "code",
   "execution_count": 13,
   "outputs": [
    {
     "data": {
      "text/plain": "(4, 8)"
     },
     "execution_count": 13,
     "metadata": {},
     "output_type": "execute_result"
    }
   ],
   "source": [
    "cpg_dna_hmm.n_features_, cpg_dna_hmm.n_components"
   ],
   "metadata": {
    "collapsed": false,
    "ExecuteTime": {
     "start_time": "2023-04-20T13:23:48.068444Z",
     "end_time": "2023-04-20T13:23:48.092104Z"
    }
   }
  },
  {
   "cell_type": "code",
   "execution_count": null,
   "outputs": [],
   "source": [],
   "metadata": {
    "collapsed": false
   }
  },
  {
   "cell_type": "markdown",
   "source": [],
   "metadata": {
    "collapsed": false
   }
  }
 ],
 "metadata": {
  "kernelspec": {
   "display_name": "Python 3",
   "language": "python",
   "name": "python3"
  },
  "language_info": {
   "codemirror_mode": {
    "name": "ipython",
    "version": 2
   },
   "file_extension": ".py",
   "mimetype": "text/x-python",
   "name": "python",
   "nbconvert_exporter": "python",
   "pygments_lexer": "ipython2",
   "version": "2.7.6"
  }
 },
 "nbformat": 4,
 "nbformat_minor": 0
}
