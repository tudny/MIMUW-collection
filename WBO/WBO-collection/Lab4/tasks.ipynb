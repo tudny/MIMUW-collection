{
 "cells": [
  {
   "cell_type": "markdown",
   "source": [
    "Dziś rozmawiamy o prostych metodach kostrukcji drzew na podstawie macierzy odległości. Slajdy na dziś składają się z mojej prezentacji nt. metod heurystycznych i slajdów P. Góreckiego nt. metod ML\n",
    "\n",
    "Na laboratorium będziemy konstruować drzewa w praktyce.\n",
    "\n",
    "Warto zapoznać się z dokumentacją modułu Bio.Phylo w tutorialu jak i na stronie wiki."
   ],
   "metadata": {
    "collapsed": false
   }
  },
  {
   "cell_type": "code",
   "execution_count": 2,
   "outputs": [],
   "source": [
    "from Bio import Phylo\n",
    "from Bio import AlignIO\n",
    "from Bio.Phylo.TreeConstruction import DistanceCalculator, DistanceTreeConstructor"
   ],
   "metadata": {
    "collapsed": false
   }
  },
  {
   "cell_type": "markdown",
   "source": [
    "1. Na początek ustalmy listy sekwencji. Rozważmy sekwencje paralogiczne i ortologiczne ludzkiej hydroksylazy fenyloalaniny.  Załóżmy, że mamy już sekwencje aminokwasowe uliniowione globalnie.  Ze względu na czasochłonność procesu uliniowienia, użyjemy plików z uliniowieniami w formacie nexus:  Human_PAH_paralogues, Human_H2BFS_paralogues (ewentualnie Human_PAH_orthologues, ale to dość duży plik). Wczytaj te pliki przy pomocy metod z modułu Bio.AlignIO (pliki są już na serwerze jupyter w katalogu WBO)"
   ],
   "metadata": {
    "collapsed": false
   }
  },
  {
   "cell_type": "code",
   "execution_count": 3,
   "metadata": {
    "collapsed": true
   },
   "outputs": [],
   "source": [
    "paralogues_data = AlignIO.read(\"data/Human_PAH_paralogues.nex\", \"nexus\")\n",
    "orthologues_data = AlignIO.read(\"data/Human_H2BFS_paralogues.nex\", \"nexus\")"
   ]
  },
  {
   "cell_type": "markdown",
   "source": [
    "2.Wylicz macierze odległości dla tych grup sekwencji przy pomocy klasy Bio.Phylo.TreeConstruction.DistanceCalculator  (dla macierzy BLOSUM62, osobno dla paralogów i osobno dla ortologów genów PAH – to  zajmie chwilę)."
   ],
   "metadata": {
    "collapsed": false
   }
  },
  {
   "cell_type": "code",
   "execution_count": null,
   "outputs": [],
   "source": [
    "calculator = DistanceCalculator(\"blosum62\")\n",
    "paralogues_matrix = calculator.get_distance(paralogues_data)\n",
    "orthologues_matrix = calculator.get_distance(orthologues_data)"
   ],
   "metadata": {
    "collapsed": false
   }
  },
  {
   "cell_type": "markdown",
   "source": [
    "3. Stwórz drzewa filogenetyczne na podstawie macierzy przy pomocy klasy Bio.Phylo.TreeConstruction.DistanceTreeConstructor zarówno metodą UPGMA – hierarchiczną jak i nj (neighbor joining)"
   ],
   "metadata": {
    "collapsed": false
   }
  },
  {
   "cell_type": "code",
   "execution_count": null,
   "outputs": [],
   "source": [
    "constructor = DistanceTreeConstructor()\n",
    "paralogues_upgma_tree = constructor.upgma(paralogues_matrix)\n",
    "orthologues_upgma_tree = constructor.upgma(orthologues_matrix)\n",
    "paralogues_nj_tree = constructor.nj(paralogues_matrix)\n",
    "orthologues_nj_tree = constructor.nj(orthologues_matrix)"
   ],
   "metadata": {
    "collapsed": false
   }
  },
  {
   "cell_type": "markdown",
   "source": [
    "4. Wyświetl uzyskane drzewa przy pomocy metody draw_ascii() i draw()"
   ],
   "metadata": {
    "collapsed": false
   }
  },
  {
   "cell_type": "code",
   "execution_count": null,
   "outputs": [],
   "source": [
    "def draw_tree(tree):\n",
    "    print(tree.name)\n",
    "    Phylo.draw(tree)\n",
    "    Phylo.draw_ascii(tree)\n",
    "\n",
    "\n",
    "draw_tree(paralogues_upgma_tree)\n",
    "draw_tree(orthologues_upgma_tree)\n",
    "draw_tree(paralogues_nj_tree)\n",
    "draw_tree(orthologues_nj_tree)"
   ],
   "metadata": {
    "collapsed": false
   }
  },
  {
   "cell_type": "markdown",
   "source": [
    "5. Zapisz uzyskane drzewa do formatów newick i phyloxml. obejrzyj wyniki."
   ],
   "metadata": {
    "collapsed": false
   }
  },
  {
   "cell_type": "code",
   "execution_count": null,
   "outputs": [],
   "source": [
    "def save_tree_to_file(tree, name):\n",
    "    Phylo.write(tree, f\"data/{name}.nwk\", \"newick\")\n",
    "    Phylo.write(tree, f\"data/{name}.xml\", \"phyloxml\")\n",
    "\n",
    "\n",
    "save_tree_to_file(paralogues_upgma_tree, \"paralogues_upgma_tree\")\n",
    "save_tree_to_file(orthologues_upgma_tree, \"orthologues_upgma_tree\")\n",
    "save_tree_to_file(paralogues_nj_tree, \"paralogues_nj_tree\")\n",
    "save_tree_to_file(orthologues_nj_tree, \"orthologues_nj_tree\")"
   ],
   "metadata": {
    "collapsed": false
   }
  },
  {
   "cell_type": "code",
   "execution_count": null,
   "outputs": [],
   "source": [],
   "metadata": {
    "collapsed": false
   }
  }
 ],
 "metadata": {
  "kernelspec": {
   "display_name": "Python 3",
   "language": "python",
   "name": "python3"
  },
  "language_info": {
   "codemirror_mode": {
    "name": "ipython",
    "version": 2
   },
   "file_extension": ".py",
   "mimetype": "text/x-python",
   "name": "python",
   "nbconvert_exporter": "python",
   "pygments_lexer": "ipython2",
   "version": "2.7.6"
  }
 },
 "nbformat": 4,
 "nbformat_minor": 0
}
